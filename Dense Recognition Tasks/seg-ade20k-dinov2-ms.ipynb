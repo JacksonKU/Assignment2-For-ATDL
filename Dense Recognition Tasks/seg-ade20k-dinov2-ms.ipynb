{
 "cells": [
  {
   "cell_type": "markdown",
   "metadata": {},
   "source": [
    "# Acknowledgment\n",
    "\n",
    "This implementation is fully based on the following code:\n",
    "\n",
    "- code: https://github.com/NielsRogge/Transformers-Tutorials/blob/master/DINOv2/Train_a_linear_classifier_on_top_of_DINOv2_for_semantic_segmentation.ipynb\n",
    "- Author: NielsRogge"
   ]
  },
  {
   "cell_type": "markdown",
   "metadata": {},
   "source": [
    "# Description\n",
    "- Task: semantic segmentation\n",
    "- Dataset: ADE20K\n",
    "- Model: DINOv2-base\n",
    "- Evaluation: ms"
   ]
  },
  {
   "cell_type": "markdown",
   "metadata": {},
   "source": [
    "# Installations and Imports"
   ]
  },
  {
   "cell_type": "code",
   "execution_count": 1,
   "metadata": {},
   "outputs": [],
   "source": [
    "Install = False\n",
    "if Install:\n",
    "    !pip3 install evaluate\n",
    "    !pip3 install transformers\n",
    "    !pip3 install datasets\n",
    "    !pip3 install albumentations"
   ]
  },
  {
   "cell_type": "code",
   "execution_count": 2,
   "metadata": {},
   "outputs": [],
   "source": [
    "import os\n",
    "os.environ['HF_ENDPOINT'] = 'https://hf-mirror.com'"
   ]
  },
  {
   "cell_type": "code",
   "execution_count": 3,
   "metadata": {},
   "outputs": [],
   "source": [
    "import torch\n",
    "from torch.optim import AdamW\n",
    "from torch.utils.data import Dataset\n",
    "from torch.utils.data import DataLoader\n",
    "import evaluate\n",
    "import numpy as np\n",
    "from PIL import Image\n",
    "from tqdm.auto import tqdm\n",
    "import matplotlib.pyplot as plt\n",
    "from transformers import Dinov2Model, Dinov2PreTrainedModel\n",
    "from transformers.modeling_outputs import SemanticSegmenterOutput\n",
    "from datasets import load_dataset\n",
    "import albumentations as A"
   ]
  },
  {
   "cell_type": "markdown",
   "metadata": {},
   "source": [
    "# Functions and Classes"
   ]
  },
  {
   "cell_type": "code",
   "execution_count": 4,
   "metadata": {},
   "outputs": [],
   "source": [
    "def get_dataset(dataset_dir):\n",
    "    dataset = load_dataset(dataset_dir)\n",
    "    print(dataset)\n",
    "    return dataset\n",
    "\n",
    "def generate_id2label(num_labels):\n",
    "    id2label = {0: \"label0\"}\n",
    "\n",
    "    for i in range(1, num_labels + 1):\n",
    "        id2label[i] = f\"label{i}\"\n",
    "    \n",
    "    return id2label\n",
    "\n",
    "def get_transform_ms():\n",
    "    \n",
    "    ADE_MEAN = np.array([123.675, 116.280, 103.530]) / 255\n",
    "    ADE_STD = np.array([58.395, 57.120, 57.375]) / 255\n",
    "\n",
    "    train_transform = A.Compose([\n",
    "        A.Resize(width=560, height=560),\n",
    "        A.HorizontalFlip(p=0.5),\n",
    "        A.Normalize(mean=ADE_MEAN.tolist(), std=ADE_STD.tolist()),\n",
    "    ])\n",
    "\n",
    "    val_transform = A.Compose([\n",
    "        A.Resize(width=560, height=560),\n",
    "        A.Normalize(mean=ADE_MEAN.tolist(), std=ADE_STD.tolist()),\n",
    "\n",
    "    ])\n",
    "    \n",
    "    return train_transform, val_transform\n",
    "\n",
    "def collate_fn(inputs):\n",
    "    batch = dict()\n",
    "    batch[\"pixel_values\"] = torch.stack([i[0] for i in inputs], dim=0)\n",
    "    batch[\"labels\"] = torch.stack([i[1] for i in inputs], dim=0)\n",
    "    batch[\"original_images\"] = [i[2] for i in inputs]\n",
    "    batch[\"original_segmentation_maps\"] = [i[3] for i in inputs]\n",
    "\n",
    "    return batch\n",
    "\n",
    "def train_model(model, train_dataloader, metric, id2label, learning_rate=1e-5, epochs=3, device=None):\n",
    "\n",
    "    for name, param in model.named_parameters():\n",
    "        if name.startswith(\"dinov2\"):\n",
    "            param.requires_grad = False\n",
    "    \n",
    "    if device is None:\n",
    "        device = \"cuda\" if torch.cuda.is_available() else \"cpu\"\n",
    "\n",
    "    optimizer = AdamW(model.parameters(), lr=learning_rate)\n",
    "\n",
    "    model.to(device)\n",
    "\n",
    "    model.train()\n",
    "    \n",
    "    metrics_history = []\n",
    "\n",
    "    for epoch in range(epochs):\n",
    "        print(\"Epoch:\", epoch)\n",
    "        for idx, batch in enumerate(tqdm(train_dataloader)):\n",
    "            pixel_values = batch[\"pixel_values\"].to(device)\n",
    "            labels = batch[\"labels\"].to(device)\n",
    "\n",
    "            outputs = model(pixel_values, labels=labels)\n",
    "            loss = outputs.loss\n",
    "\n",
    "            loss.backward()\n",
    "            optimizer.step()\n",
    "\n",
    "            optimizer.zero_grad()\n",
    "\n",
    "            with torch.no_grad():\n",
    "                predicted = outputs.logits.argmax(dim=1)\n",
    "                \n",
    "                metric.add_batch(predictions=predicted.detach().cpu().numpy(), \n",
    "                                 references=labels.detach().cpu().numpy())\n",
    "\n",
    "            if idx % 100 == 0:\n",
    "                metrics = metric.compute(num_labels=len(id2label),\n",
    "                                        ignore_index=0,\n",
    "                                        reduce_labels=False)\n",
    "                \n",
    "                metrics_history.append({\n",
    "                    'epoch': epoch,\n",
    "                    'batch_idx': idx,\n",
    "                    'mean_iou': metrics['mean_iou'],\n",
    "                    'mean_accuracy': metrics['mean_accuracy']\n",
    "                })                \n",
    "                \n",
    "                print(\"Loss:\", loss.item())\n",
    "                print(\"Mean IOU:\", metrics[\"mean_iou\"])\n",
    "                print(\"Mean Accuracy:\", metrics[\"mean_accuracy\"])\n",
    "                print(\"----------------------------------\")\n",
    "    \n",
    "    return metrics_history\n",
    "\n",
    "def val_eval_ms(model, val_dataloader, metric, id2label, device=None):\n",
    "\n",
    "    if device is None:\n",
    "        device = \"cuda\" if torch.cuda.is_available() else \"cpu\"\n",
    "\n",
    "    model.to(device)\n",
    "\n",
    "    model.eval()\n",
    "\n",
    "    with torch.no_grad():\n",
    "        for batch in tqdm(val_dataloader):\n",
    "            pixel_values = batch[\"pixel_values\"].to(device)\n",
    "            labels = batch[\"labels\"].to(device)\n",
    "\n",
    "            outputs = model(pixel_values, labels=labels)\n",
    "\n",
    "            predicted = outputs.logits.argmax(dim=1)\n",
    "\n",
    "            metric.add_batch(predictions=predicted.detach().cpu().numpy(), \n",
    "                             references=labels.detach().cpu().numpy())\n",
    "\n",
    "    final_metrics = metric.compute(num_labels=len(id2label),\n",
    "                                   ignore_index=0,\n",
    "                                   reduce_labels=False)\n",
    "\n",
    "    print(f\"Final Mean IOU: {final_metrics['mean_iou']}\")\n",
    "    print(f\"Final Mean Accuracy: {final_metrics['mean_accuracy']}\")"
   ]
  },
  {
   "cell_type": "code",
   "execution_count": 5,
   "metadata": {},
   "outputs": [],
   "source": [
    "class SegmentationDataset(Dataset):\n",
    "  def __init__(self, dataset, transform, feature_img, feature_seg):\n",
    "    self.dataset = dataset\n",
    "    self.transform = transform\n",
    "    self.feature_img = feature_img\n",
    "    self.feature_seg = feature_seg\n",
    "\n",
    "  def __len__(self):\n",
    "    return len(self.dataset)\n",
    "\n",
    "  def __getitem__(self, idx):\n",
    "    item = self.dataset[idx]\n",
    "    original_image = np.array(item[self.feature_img])\n",
    "    original_segmentation_map = np.array(item[self.feature_seg])\n",
    "\n",
    "    transformed = self.transform(image=original_image, mask=original_segmentation_map)\n",
    "    image, target = torch.tensor(transformed['image']), torch.LongTensor(transformed['mask'])\n",
    "    \n",
    "    if image.dim() == 2:\n",
    "        image = image.unsqueeze(2)\n",
    "        image = image.expand(-1, -1, 3)\n",
    "\n",
    "    image = image.permute(2, 0, 1)\n",
    "\n",
    "    return image, target, original_image, original_segmentation_map\n",
    "\n",
    "class LinearClassifier(torch.nn.Module):\n",
    "    def __init__(self, in_channels, tokenW=40, tokenH=40, num_labels=1):\n",
    "        super(LinearClassifier, self).__init__()\n",
    "\n",
    "        self.in_channels = in_channels\n",
    "        self.width = tokenW\n",
    "        self.height = tokenH\n",
    "        self.classifier = torch.nn.Conv2d(in_channels, num_labels, (1,1))\n",
    "\n",
    "    def forward(self, embeddings):\n",
    "        embeddings = embeddings.reshape(-1, self.height, self.width, self.in_channels)\n",
    "        embeddings = embeddings.permute(0,3,1,2)\n",
    "\n",
    "        return self.classifier(embeddings)\n",
    "\n",
    "class Dinov2ForSemanticSegmentationMS(Dinov2PreTrainedModel):\n",
    "  def __init__(self, config):\n",
    "    super().__init__(config)\n",
    "\n",
    "    self.dinov2 = Dinov2Model(config)\n",
    "    self.classifier = LinearClassifier(config.hidden_size * 4, 40, 40, config.num_labels)\n",
    "\n",
    "  def forward(self, pixel_values, output_hidden_states=True, output_attentions=False, labels=None):\n",
    "\n",
    "    outputs = self.dinov2(pixel_values,\n",
    "                            output_hidden_states=output_hidden_states,\n",
    "                            output_attentions=output_attentions)\n",
    "    \n",
    "    hidden_states = torch.cat(outputs.hidden_states[-4:], dim=-1)\n",
    "    patch_embeddings = hidden_states[:,1:,:]\n",
    "\n",
    "    logits = self.classifier(patch_embeddings)\n",
    "    logits = torch.nn.functional.interpolate(logits, size=pixel_values.shape[2:], mode=\"bilinear\", align_corners=False)\n",
    "\n",
    "    loss = None\n",
    "    if labels is not None:\n",
    "\n",
    "      loss_fct = torch.nn.CrossEntropyLoss(ignore_index=0)\n",
    "      loss = loss_fct(logits.squeeze(), labels.squeeze())\n",
    "\n",
    "    return SemanticSegmenterOutput(\n",
    "        loss=loss,\n",
    "        logits=logits,\n",
    "        hidden_states=outputs.hidden_states,\n",
    "        attentions=outputs.attentions,\n",
    "    )"
   ]
  },
  {
   "cell_type": "markdown",
   "metadata": {},
   "source": [
    "# Hyperparameters"
   ]
  },
  {
   "cell_type": "code",
   "execution_count": 6,
   "metadata": {},
   "outputs": [],
   "source": [
    "num_labels = 150\n",
    "id2label = generate_id2label(num_labels)\n",
    "\n",
    "batch_size = 16\n",
    "learning_rate = 1e-5\n",
    "epochs = 10"
   ]
  },
  {
   "cell_type": "markdown",
   "metadata": {},
   "source": [
    "# Dataset Processing"
   ]
  },
  {
   "cell_type": "code",
   "execution_count": 7,
   "metadata": {},
   "outputs": [
    {
     "name": "stdout",
     "output_type": "stream",
     "text": [
      "DatasetDict({\n",
      "    train: Dataset({\n",
      "        features: ['image', 'annotated', 'Scene_category'],\n",
      "        num_rows: 20210\n",
      "    })\n",
      "    val: Dataset({\n",
      "        features: ['image', 'annotated', 'Scene_category'],\n",
      "        num_rows: 2000\n",
      "    })\n",
      "})\n"
     ]
    }
   ],
   "source": [
    "dataset_dir = \"sezer12138/ADE20k_Segementation\"\n",
    "dataset = get_dataset(dataset_dir)"
   ]
  },
  {
   "cell_type": "code",
   "execution_count": 8,
   "metadata": {},
   "outputs": [],
   "source": [
    "train_set = \"train\"\n",
    "val_set = \"val\"\n",
    "feature_img = \"image\"\n",
    "feature_seg = \"annotated\""
   ]
  },
  {
   "cell_type": "code",
   "execution_count": 9,
   "metadata": {},
   "outputs": [],
   "source": [
    "train_transform, val_transform = get_transform_ms()\n",
    "train_dataset = SegmentationDataset(dataset[train_set], transform=train_transform, feature_img=feature_img, feature_seg=feature_seg)\n",
    "val_dataset = SegmentationDataset(dataset[val_set], transform=val_transform, feature_img=feature_img, feature_seg=feature_seg)\n",
    "train_dataloader = DataLoader(train_dataset, batch_size=batch_size, shuffle=True, collate_fn=collate_fn)\n",
    "val_dataloader = DataLoader(val_dataset, batch_size=batch_size, shuffle=False, collate_fn=collate_fn)"
   ]
  },
  {
   "cell_type": "markdown",
   "metadata": {},
   "source": [
    "# Train and Evaluation"
   ]
  },
  {
   "cell_type": "markdown",
   "metadata": {},
   "source": [
    "### Base Model"
   ]
  },
  {
   "cell_type": "code",
   "execution_count": 10,
   "metadata": {},
   "outputs": [
    {
     "name": "stderr",
     "output_type": "stream",
     "text": [
      "Some weights of Dinov2ForSemanticSegmentationMS were not initialized from the model checkpoint at facebook/dinov2-base and are newly initialized: ['classifier.classifier.bias', 'classifier.classifier.weight']\n",
      "You should probably TRAIN this model on a down-stream task to be able to use it for predictions and inference.\n"
     ]
    }
   ],
   "source": [
    "model = Dinov2ForSemanticSegmentationMS.from_pretrained(\"facebook/dinov2-base\", id2label=id2label, num_labels=len(id2label))"
   ]
  },
  {
   "cell_type": "code",
   "execution_count": 11,
   "metadata": {},
   "outputs": [],
   "source": [
    "metric = evaluate.load(\"mean_iou\")\n",
    "metric_val = evaluate.load(\"mean_iou\")"
   ]
  },
  {
   "cell_type": "code",
   "execution_count": 12,
   "metadata": {},
   "outputs": [
    {
     "name": "stdout",
     "output_type": "stream",
     "text": [
      "Epoch: 0\n"
     ]
    },
    {
     "data": {
      "application/vnd.jupyter.widget-view+json": {
       "model_id": "7de8ee2ffd9b47f49286cee3520afa8f",
       "version_major": 2,
       "version_minor": 0
      },
      "text/plain": [
       "  0%|          | 0/1264 [00:00<?, ?it/s]"
      ]
     },
     "metadata": {},
     "output_type": "display_data"
    },
    {
     "name": "stderr",
     "output_type": "stream",
     "text": [
      "/root/miniconda3/lib/python3.12/site-packages/datasets/features/image.py:348: UserWarning: Downcasting array dtype int64 to int32 to be compatible with 'Pillow'\n",
      "  warnings.warn(f\"Downcasting array dtype {dtype} to {dest_dtype} to be compatible with 'Pillow'\")\n",
      "/root/.cache/huggingface/modules/evaluate_modules/metrics/evaluate-metric--mean_iou/9e450724f21f05592bfb0255fe2fa576df8171fa060d11121d8aecfff0db80d0/mean_iou.py:260: RuntimeWarning: invalid value encountered in divide\n",
      "  acc = total_area_intersect / total_area_label\n"
     ]
    },
    {
     "name": "stdout",
     "output_type": "stream",
     "text": [
      "Loss: 5.831729412078857\n",
      "Mean IOU: 0.0008315554997648702\n",
      "Mean Accuracy: 0.0061604621828927515\n",
      "----------------------------------\n",
      "Loss: 5.100131988525391\n",
      "Mean IOU: 0.0026693451567006998\n",
      "Mean Accuracy: 0.009756585076266274\n",
      "----------------------------------\n",
      "Loss: 4.058493137359619\n",
      "Mean IOU: 0.006204779582129662\n",
      "Mean Accuracy: 0.014799875468185977\n",
      "----------------------------------\n",
      "Loss: 3.7275755405426025\n",
      "Mean IOU: 0.013465360998585607\n",
      "Mean Accuracy: 0.025005634967895568\n",
      "----------------------------------\n",
      "Loss: 2.980827808380127\n",
      "Mean IOU: 0.022096361008635955\n",
      "Mean Accuracy: 0.037901427100769665\n",
      "----------------------------------\n",
      "Loss: 3.0593085289001465\n",
      "Mean IOU: 0.03080645428479513\n",
      "Mean Accuracy: 0.04967027211910477\n",
      "----------------------------------\n",
      "Loss: 2.2927896976470947\n",
      "Mean IOU: 0.042041000022931145\n",
      "Mean Accuracy: 0.062466115351662264\n",
      "----------------------------------\n",
      "Loss: 2.497021198272705\n",
      "Mean IOU: 0.05221973480061944\n",
      "Mean Accuracy: 0.07414532977767335\n",
      "----------------------------------\n"
     ]
    },
    {
     "name": "stderr",
     "output_type": "stream",
     "text": [
      "/root/.cache/huggingface/modules/evaluate_modules/metrics/evaluate-metric--mean_iou/9e450724f21f05592bfb0255fe2fa576df8171fa060d11121d8aecfff0db80d0/mean_iou.py:259: RuntimeWarning: invalid value encountered in divide\n",
      "  iou = total_area_intersect / total_area_union\n"
     ]
    },
    {
     "name": "stdout",
     "output_type": "stream",
     "text": [
      "Loss: 2.122680425643921\n",
      "Mean IOU: 0.06304852050078932\n",
      "Mean Accuracy: 0.08687217815800934\n",
      "----------------------------------\n",
      "Loss: 1.8659729957580566\n",
      "Mean IOU: 0.07237735878845941\n",
      "Mean Accuracy: 0.09781667765504165\n",
      "----------------------------------\n",
      "Loss: 1.9589581489562988\n",
      "Mean IOU: 0.08154372881825184\n",
      "Mean Accuracy: 0.10932430793101985\n",
      "----------------------------------\n",
      "Loss: 1.7093273401260376\n",
      "Mean IOU: 0.09206894898392287\n",
      "Mean Accuracy: 0.12207304604227337\n",
      "----------------------------------\n",
      "Loss: 1.590934157371521\n",
      "Mean IOU: 0.10011680271966333\n",
      "Mean Accuracy: 0.13045772427733976\n",
      "----------------------------------\n",
      "Epoch: 1\n"
     ]
    },
    {
     "data": {
      "application/vnd.jupyter.widget-view+json": {
       "model_id": "44837767e1864e7aa1d1fcfa119a3612",
       "version_major": 2,
       "version_minor": 0
      },
      "text/plain": [
       "  0%|          | 0/1264 [00:00<?, ?it/s]"
      ]
     },
     "metadata": {},
     "output_type": "display_data"
    },
    {
     "name": "stdout",
     "output_type": "stream",
     "text": [
      "Loss: 2.002190589904785\n",
      "Mean IOU: 0.10654349777044954\n",
      "Mean Accuracy: 0.13938728826240684\n",
      "----------------------------------\n",
      "Loss: 2.3491148948669434\n",
      "Mean IOU: 0.11565203719217522\n",
      "Mean Accuracy: 0.14925586276748687\n",
      "----------------------------------\n",
      "Loss: 1.4814821481704712\n",
      "Mean IOU: 0.1263542612977016\n",
      "Mean Accuracy: 0.16108003618534558\n",
      "----------------------------------\n",
      "Loss: 1.5033583641052246\n",
      "Mean IOU: 0.1295991962242095\n",
      "Mean Accuracy: 0.16626829790557265\n",
      "----------------------------------\n",
      "Loss: 1.5855528116226196\n",
      "Mean IOU: 0.14298338105761213\n",
      "Mean Accuracy: 0.1799435828714534\n",
      "----------------------------------\n",
      "Loss: 1.4443718194961548\n",
      "Mean IOU: 0.15431830336366792\n",
      "Mean Accuracy: 0.19430993944200495\n",
      "----------------------------------\n",
      "Loss: 1.3551511764526367\n",
      "Mean IOU: 0.16020401035629145\n",
      "Mean Accuracy: 0.20201119641264595\n",
      "----------------------------------\n",
      "Loss: 1.1157556772232056\n",
      "Mean IOU: 0.16627879249701596\n",
      "Mean Accuracy: 0.20989290270900493\n",
      "----------------------------------\n",
      "Loss: 1.4001387357711792\n",
      "Mean IOU: 0.1777976145777749\n",
      "Mean Accuracy: 0.22527652854221258\n",
      "----------------------------------\n",
      "Loss: 1.085259199142456\n",
      "Mean IOU: 0.1847990384966812\n",
      "Mean Accuracy: 0.23146221252610427\n",
      "----------------------------------\n",
      "Loss: 1.4090207815170288\n",
      "Mean IOU: 0.19367641449300715\n",
      "Mean Accuracy: 0.24335701524502595\n",
      "----------------------------------\n",
      "Loss: 1.511177897453308\n",
      "Mean IOU: 0.19920274673986205\n",
      "Mean Accuracy: 0.2513302147268243\n",
      "----------------------------------\n",
      "Loss: 0.7918095588684082\n",
      "Mean IOU: 0.2071557987352089\n",
      "Mean Accuracy: 0.26013110371943626\n",
      "----------------------------------\n",
      "Epoch: 2\n"
     ]
    },
    {
     "data": {
      "application/vnd.jupyter.widget-view+json": {
       "model_id": "2ed26a56d07142a5a448e5e468c41b82",
       "version_major": 2,
       "version_minor": 0
      },
      "text/plain": [
       "  0%|          | 0/1264 [00:00<?, ?it/s]"
      ]
     },
     "metadata": {},
     "output_type": "display_data"
    },
    {
     "name": "stdout",
     "output_type": "stream",
     "text": [
      "Loss: 1.1402921676635742\n",
      "Mean IOU: 0.2157005031329137\n",
      "Mean Accuracy: 0.2696402925332665\n",
      "----------------------------------\n",
      "Loss: 1.0918604135513306\n",
      "Mean IOU: 0.22484996399187204\n",
      "Mean Accuracy: 0.2811610869350024\n",
      "----------------------------------\n",
      "Loss: 1.2253432273864746\n",
      "Mean IOU: 0.22615526482641518\n",
      "Mean Accuracy: 0.2832045168832052\n",
      "----------------------------------\n",
      "Loss: 1.4216843843460083\n",
      "Mean IOU: 0.2408445643782442\n",
      "Mean Accuracy: 0.30284786975943545\n",
      "----------------------------------\n",
      "Loss: 1.4370543956756592\n",
      "Mean IOU: 0.23516192367641703\n",
      "Mean Accuracy: 0.29486368894467335\n",
      "----------------------------------\n",
      "Loss: 1.3368408679962158\n",
      "Mean IOU: 0.245293548330552\n",
      "Mean Accuracy: 0.30637786702312847\n",
      "----------------------------------\n",
      "Loss: 0.9766488075256348\n",
      "Mean IOU: 0.2556535235783035\n",
      "Mean Accuracy: 0.317895493600781\n",
      "----------------------------------\n",
      "Loss: 1.2688446044921875\n",
      "Mean IOU: 0.2549860792241386\n",
      "Mean Accuracy: 0.3209022605915446\n",
      "----------------------------------\n",
      "Loss: 1.0734968185424805\n",
      "Mean IOU: 0.2617185269903246\n",
      "Mean Accuracy: 0.32595068951322953\n",
      "----------------------------------\n",
      "Loss: 0.8083854913711548\n",
      "Mean IOU: 0.26461142722944025\n",
      "Mean Accuracy: 0.33341864700070895\n",
      "----------------------------------\n",
      "Loss: 1.1158455610275269\n",
      "Mean IOU: 0.2705176658487467\n",
      "Mean Accuracy: 0.3402411051065467\n",
      "----------------------------------\n",
      "Loss: 0.9975791573524475\n",
      "Mean IOU: 0.2767369217447328\n",
      "Mean Accuracy: 0.34257398974295916\n",
      "----------------------------------\n",
      "Loss: 0.9330481886863708\n",
      "Mean IOU: 0.27243757924320416\n",
      "Mean Accuracy: 0.34371812944165253\n",
      "----------------------------------\n",
      "Epoch: 3\n"
     ]
    },
    {
     "data": {
      "application/vnd.jupyter.widget-view+json": {
       "model_id": "5839dd599e804fdbbae442c7826c1634",
       "version_major": 2,
       "version_minor": 0
      },
      "text/plain": [
       "  0%|          | 0/1264 [00:00<?, ?it/s]"
      ]
     },
     "metadata": {},
     "output_type": "display_data"
    },
    {
     "name": "stdout",
     "output_type": "stream",
     "text": [
      "Loss: 1.0273890495300293\n",
      "Mean IOU: 0.28661539153348414\n",
      "Mean Accuracy: 0.35808546007110825\n",
      "----------------------------------\n",
      "Loss: 1.147711992263794\n",
      "Mean IOU: 0.29185688502331414\n",
      "Mean Accuracy: 0.3656431578298572\n",
      "----------------------------------\n",
      "Loss: 1.2281999588012695\n",
      "Mean IOU: 0.29944243779869806\n",
      "Mean Accuracy: 0.37690855795533823\n",
      "----------------------------------\n",
      "Loss: 0.9882869720458984\n",
      "Mean IOU: 0.29840340948793226\n",
      "Mean Accuracy: 0.37270233414874554\n",
      "----------------------------------\n",
      "Loss: 0.9076258540153503\n",
      "Mean IOU: 0.299458253649164\n",
      "Mean Accuracy: 0.3736571756898562\n",
      "----------------------------------\n",
      "Loss: 1.0382825136184692\n",
      "Mean IOU: 0.31171577434220743\n",
      "Mean Accuracy: 0.38826496820387\n",
      "----------------------------------\n",
      "Loss: 0.9849675893783569\n",
      "Mean IOU: 0.3076762752559487\n",
      "Mean Accuracy: 0.3850586287847981\n",
      "----------------------------------\n",
      "Loss: 0.920588493347168\n",
      "Mean IOU: 0.3113426603532226\n",
      "Mean Accuracy: 0.39255582087715923\n",
      "----------------------------------\n",
      "Loss: 1.1960082054138184\n",
      "Mean IOU: 0.3168464427107587\n",
      "Mean Accuracy: 0.4012492964460685\n",
      "----------------------------------\n",
      "Loss: 1.0766583681106567\n",
      "Mean IOU: 0.3252550752568815\n",
      "Mean Accuracy: 0.406306683672091\n",
      "----------------------------------\n",
      "Loss: 0.9409505128860474\n",
      "Mean IOU: 0.317132110718626\n",
      "Mean Accuracy: 0.39970131896961364\n",
      "----------------------------------\n",
      "Loss: 0.9812760949134827\n",
      "Mean IOU: 0.32042847706114314\n",
      "Mean Accuracy: 0.40406261311411695\n",
      "----------------------------------\n",
      "Loss: 1.0959538221359253\n",
      "Mean IOU: 0.3249337833100893\n",
      "Mean Accuracy: 0.40611324543481864\n",
      "----------------------------------\n",
      "Epoch: 4\n"
     ]
    },
    {
     "data": {
      "application/vnd.jupyter.widget-view+json": {
       "model_id": "53b294db071544c194f13e38e2e2cefd",
       "version_major": 2,
       "version_minor": 0
      },
      "text/plain": [
       "  0%|          | 0/1264 [00:00<?, ?it/s]"
      ]
     },
     "metadata": {},
     "output_type": "display_data"
    },
    {
     "name": "stdout",
     "output_type": "stream",
     "text": [
      "Loss: 0.9241369962692261\n",
      "Mean IOU: 0.32717565549690136\n",
      "Mean Accuracy: 0.4187631496346474\n",
      "----------------------------------\n",
      "Loss: 0.6052500009536743\n",
      "Mean IOU: 0.327621646975631\n",
      "Mean Accuracy: 0.40961111024788244\n",
      "----------------------------------\n",
      "Loss: 0.9026890993118286\n",
      "Mean IOU: 0.33001663620715116\n",
      "Mean Accuracy: 0.41542614855091725\n",
      "----------------------------------\n",
      "Loss: 0.7441354393959045\n",
      "Mean IOU: 0.3320889825740222\n",
      "Mean Accuracy: 0.4184500392848245\n",
      "----------------------------------\n",
      "Loss: 0.8226580619812012\n",
      "Mean IOU: 0.3381598460600915\n",
      "Mean Accuracy: 0.42385906777785437\n",
      "----------------------------------\n",
      "Loss: 0.9209801554679871\n",
      "Mean IOU: 0.3332556027475867\n",
      "Mean Accuracy: 0.4207053714914702\n",
      "----------------------------------\n",
      "Loss: 0.7239039540290833\n",
      "Mean IOU: 0.3428808142218207\n",
      "Mean Accuracy: 0.4314723122921686\n",
      "----------------------------------\n",
      "Loss: 0.8450959920883179\n",
      "Mean IOU: 0.35064698622205676\n",
      "Mean Accuracy: 0.4398410049658005\n",
      "----------------------------------\n",
      "Loss: 0.9772418737411499\n",
      "Mean IOU: 0.347260830573664\n",
      "Mean Accuracy: 0.43673884527216916\n",
      "----------------------------------\n",
      "Loss: 1.1637197732925415\n",
      "Mean IOU: 0.353629617199831\n",
      "Mean Accuracy: 0.4431155217579293\n",
      "----------------------------------\n",
      "Loss: 0.8711348176002502\n",
      "Mean IOU: 0.3494479265783446\n",
      "Mean Accuracy: 0.4404216158057015\n",
      "----------------------------------\n",
      "Loss: 1.06731116771698\n",
      "Mean IOU: 0.36432786128755523\n",
      "Mean Accuracy: 0.45960809149473564\n",
      "----------------------------------\n",
      "Loss: 1.2914518117904663\n",
      "Mean IOU: 0.3500514626460247\n",
      "Mean Accuracy: 0.43964743341626605\n",
      "----------------------------------\n",
      "Epoch: 5\n"
     ]
    },
    {
     "data": {
      "application/vnd.jupyter.widget-view+json": {
       "model_id": "09c34520c38d447a9ca8e952d5709aea",
       "version_major": 2,
       "version_minor": 0
      },
      "text/plain": [
       "  0%|          | 0/1264 [00:00<?, ?it/s]"
      ]
     },
     "metadata": {},
     "output_type": "display_data"
    },
    {
     "name": "stdout",
     "output_type": "stream",
     "text": [
      "Loss: 1.0382267236709595\n",
      "Mean IOU: 0.36221553965310865\n",
      "Mean Accuracy: 0.4548146770426632\n",
      "----------------------------------\n",
      "Loss: 0.8132150173187256\n",
      "Mean IOU: 0.3591089620382225\n",
      "Mean Accuracy: 0.4501198022590941\n",
      "----------------------------------\n",
      "Loss: 0.8251363635063171\n",
      "Mean IOU: 0.3629439275421772\n",
      "Mean Accuracy: 0.4578543294890386\n",
      "----------------------------------\n",
      "Loss: 1.193735957145691\n",
      "Mean IOU: 0.3567679637693436\n",
      "Mean Accuracy: 0.4488129828352466\n",
      "----------------------------------\n",
      "Loss: 1.1221084594726562\n",
      "Mean IOU: 0.36259045469804\n",
      "Mean Accuracy: 0.45525957945131024\n",
      "----------------------------------\n",
      "Loss: 0.9492073655128479\n",
      "Mean IOU: 0.3667214573066583\n",
      "Mean Accuracy: 0.4666785807993854\n",
      "----------------------------------\n",
      "Loss: 0.8693735003471375\n",
      "Mean IOU: 0.3725062286649378\n",
      "Mean Accuracy: 0.46628961111244993\n",
      "----------------------------------\n",
      "Loss: 1.0988085269927979\n",
      "Mean IOU: 0.3641809284709186\n",
      "Mean Accuracy: 0.46186671064045093\n",
      "----------------------------------\n",
      "Loss: 0.9274651408195496\n",
      "Mean IOU: 0.3695023892693732\n",
      "Mean Accuracy: 0.46273683694394774\n",
      "----------------------------------\n",
      "Loss: 0.6842432022094727\n",
      "Mean IOU: 0.3756966222064216\n",
      "Mean Accuracy: 0.4734796351681198\n",
      "----------------------------------\n",
      "Loss: 0.9001022577285767\n",
      "Mean IOU: 0.36502303878287684\n",
      "Mean Accuracy: 0.4597369979010536\n",
      "----------------------------------\n",
      "Loss: 0.6205005645751953\n",
      "Mean IOU: 0.3729675280498569\n",
      "Mean Accuracy: 0.47073594528574875\n",
      "----------------------------------\n",
      "Loss: 0.8445902466773987\n",
      "Mean IOU: 0.3670667623482918\n",
      "Mean Accuracy: 0.46446504636126795\n",
      "----------------------------------\n",
      "Epoch: 6\n"
     ]
    },
    {
     "data": {
      "application/vnd.jupyter.widget-view+json": {
       "model_id": "5c18ad07a52e4d8588f30d10c03dca23",
       "version_major": 2,
       "version_minor": 0
      },
      "text/plain": [
       "  0%|          | 0/1264 [00:00<?, ?it/s]"
      ]
     },
     "metadata": {},
     "output_type": "display_data"
    },
    {
     "name": "stdout",
     "output_type": "stream",
     "text": [
      "Loss: 0.8200410008430481\n",
      "Mean IOU: 0.36641292438375783\n",
      "Mean Accuracy: 0.4728202017940772\n",
      "----------------------------------\n",
      "Loss: 0.8858672976493835\n",
      "Mean IOU: 0.37592290398500977\n",
      "Mean Accuracy: 0.47609379507435867\n",
      "----------------------------------\n",
      "Loss: 0.6337774395942688\n",
      "Mean IOU: 0.38212064503829746\n",
      "Mean Accuracy: 0.4772971548186333\n",
      "----------------------------------\n",
      "Loss: 0.7036575078964233\n",
      "Mean IOU: 0.3719925007550242\n",
      "Mean Accuracy: 0.4694301947544859\n",
      "----------------------------------\n",
      "Loss: 1.0246458053588867\n",
      "Mean IOU: 0.3713603196440643\n",
      "Mean Accuracy: 0.4704197814355505\n",
      "----------------------------------\n",
      "Loss: 0.7555981874465942\n",
      "Mean IOU: 0.3955420846761106\n",
      "Mean Accuracy: 0.4957486922374278\n",
      "----------------------------------\n",
      "Loss: 1.0133531093597412\n",
      "Mean IOU: 0.38266271778108174\n",
      "Mean Accuracy: 0.48053773597494287\n",
      "----------------------------------\n",
      "Loss: 0.7731493711471558\n",
      "Mean IOU: 0.39363249841806164\n",
      "Mean Accuracy: 0.4905179431368426\n",
      "----------------------------------\n",
      "Loss: 1.1086424589157104\n",
      "Mean IOU: 0.37084964814848914\n",
      "Mean Accuracy: 0.4666723185063437\n",
      "----------------------------------\n",
      "Loss: 0.7995431423187256\n",
      "Mean IOU: 0.3812357296776282\n",
      "Mean Accuracy: 0.4880942736147942\n",
      "----------------------------------\n",
      "Loss: 0.9124413132667542\n",
      "Mean IOU: 0.3800524819311129\n",
      "Mean Accuracy: 0.48368904270265745\n",
      "----------------------------------\n",
      "Loss: 0.7607638835906982\n",
      "Mean IOU: 0.3975560057060256\n",
      "Mean Accuracy: 0.5032103917053508\n",
      "----------------------------------\n",
      "Loss: 0.7661128044128418\n",
      "Mean IOU: 0.38213624754851383\n",
      "Mean Accuracy: 0.48224915063859497\n",
      "----------------------------------\n",
      "Epoch: 7\n"
     ]
    },
    {
     "data": {
      "application/vnd.jupyter.widget-view+json": {
       "model_id": "e251a6a5bdae41b0840ab1cfbc68d459",
       "version_major": 2,
       "version_minor": 0
      },
      "text/plain": [
       "  0%|          | 0/1264 [00:00<?, ?it/s]"
      ]
     },
     "metadata": {},
     "output_type": "display_data"
    },
    {
     "name": "stdout",
     "output_type": "stream",
     "text": [
      "Loss: 0.6446806192398071\n",
      "Mean IOU: 0.3768991019566543\n",
      "Mean Accuracy: 0.4832787055916506\n",
      "----------------------------------\n",
      "Loss: 0.7878640294075012\n",
      "Mean IOU: 0.38998255049388536\n",
      "Mean Accuracy: 0.4923372362079866\n",
      "----------------------------------\n",
      "Loss: 0.9009037017822266\n",
      "Mean IOU: 0.3868370968274154\n",
      "Mean Accuracy: 0.4856155962169552\n",
      "----------------------------------\n",
      "Loss: 0.9052491784095764\n",
      "Mean IOU: 0.3858334075518636\n",
      "Mean Accuracy: 0.48933893526943667\n",
      "----------------------------------\n",
      "Loss: 0.6707981824874878\n",
      "Mean IOU: 0.3894228947263257\n",
      "Mean Accuracy: 0.48758571403371226\n",
      "----------------------------------\n",
      "Loss: 0.7744745016098022\n",
      "Mean IOU: 0.39192043795709375\n",
      "Mean Accuracy: 0.4973286926811971\n",
      "----------------------------------\n",
      "Loss: 0.7146725058555603\n",
      "Mean IOU: 0.39925951842388363\n",
      "Mean Accuracy: 0.5035986245375632\n",
      "----------------------------------\n",
      "Loss: 0.8916160464286804\n",
      "Mean IOU: 0.40548666029814256\n",
      "Mean Accuracy: 0.5080911564171025\n",
      "----------------------------------\n",
      "Loss: 0.719622015953064\n",
      "Mean IOU: 0.3960670011480862\n",
      "Mean Accuracy: 0.49564883456200287\n",
      "----------------------------------\n",
      "Loss: 1.022180438041687\n",
      "Mean IOU: 0.3958083070811231\n",
      "Mean Accuracy: 0.5067883461603274\n",
      "----------------------------------\n",
      "Loss: 0.901214063167572\n",
      "Mean IOU: 0.3903372696752448\n",
      "Mean Accuracy: 0.4953610160371239\n",
      "----------------------------------\n",
      "Loss: 0.862451434135437\n",
      "Mean IOU: 0.3829542173567389\n",
      "Mean Accuracy: 0.4836459560198938\n",
      "----------------------------------\n",
      "Loss: 0.8831842541694641\n",
      "Mean IOU: 0.392920234585633\n",
      "Mean Accuracy: 0.4929690006176278\n",
      "----------------------------------\n",
      "Epoch: 8\n"
     ]
    },
    {
     "data": {
      "application/vnd.jupyter.widget-view+json": {
       "model_id": "b3c8c507db6e4e53b8de31f0b8886f65",
       "version_major": 2,
       "version_minor": 0
      },
      "text/plain": [
       "  0%|          | 0/1264 [00:00<?, ?it/s]"
      ]
     },
     "metadata": {},
     "output_type": "display_data"
    },
    {
     "name": "stdout",
     "output_type": "stream",
     "text": [
      "Loss: 0.7894209027290344\n",
      "Mean IOU: 0.3995296027079726\n",
      "Mean Accuracy: 0.5077579535010336\n",
      "----------------------------------\n",
      "Loss: 0.7875381112098694\n",
      "Mean IOU: 0.4101894205446828\n",
      "Mean Accuracy: 0.5142072176968431\n",
      "----------------------------------\n",
      "Loss: 0.617716372013092\n",
      "Mean IOU: 0.3983185905708091\n",
      "Mean Accuracy: 0.5028568257841407\n",
      "----------------------------------\n",
      "Loss: 0.7780706882476807\n",
      "Mean IOU: 0.39885536245241543\n",
      "Mean Accuracy: 0.5050216786171395\n",
      "----------------------------------\n",
      "Loss: 0.8695551753044128\n",
      "Mean IOU: 0.4045222835709344\n",
      "Mean Accuracy: 0.506004642500338\n",
      "----------------------------------\n",
      "Loss: 0.8154429793357849\n",
      "Mean IOU: 0.4125347384959342\n",
      "Mean Accuracy: 0.5172993233085864\n",
      "----------------------------------\n",
      "Loss: 1.0863122940063477\n",
      "Mean IOU: 0.4027635058235533\n",
      "Mean Accuracy: 0.5021646565168699\n",
      "----------------------------------\n",
      "Loss: 0.8667376041412354\n",
      "Mean IOU: 0.4047414093730824\n",
      "Mean Accuracy: 0.5135460007484243\n",
      "----------------------------------\n",
      "Loss: 0.6446931958198547\n",
      "Mean IOU: 0.40681670247089047\n",
      "Mean Accuracy: 0.5128261712393515\n",
      "----------------------------------\n",
      "Loss: 0.7959253787994385\n",
      "Mean IOU: 0.40468018558567603\n",
      "Mean Accuracy: 0.5079859719541081\n",
      "----------------------------------\n",
      "Loss: 0.7332589626312256\n",
      "Mean IOU: 0.39467009383973806\n",
      "Mean Accuracy: 0.49918194218460904\n",
      "----------------------------------\n",
      "Loss: 0.8110881447792053\n",
      "Mean IOU: 0.4135148039291822\n",
      "Mean Accuracy: 0.5175064349149749\n",
      "----------------------------------\n",
      "Loss: 0.9640550017356873\n",
      "Mean IOU: 0.405309448689233\n",
      "Mean Accuracy: 0.509101685879406\n",
      "----------------------------------\n",
      "Epoch: 9\n"
     ]
    },
    {
     "data": {
      "application/vnd.jupyter.widget-view+json": {
       "model_id": "960195a1150c415ca3e0e9e63fe11052",
       "version_major": 2,
       "version_minor": 0
      },
      "text/plain": [
       "  0%|          | 0/1264 [00:00<?, ?it/s]"
      ]
     },
     "metadata": {},
     "output_type": "display_data"
    },
    {
     "name": "stdout",
     "output_type": "stream",
     "text": [
      "Loss: 0.8058062791824341\n",
      "Mean IOU: 0.39488048747604665\n",
      "Mean Accuracy: 0.5030590294770495\n",
      "----------------------------------\n",
      "Loss: 0.9744255542755127\n",
      "Mean IOU: 0.4134884394402623\n",
      "Mean Accuracy: 0.5174823595449999\n",
      "----------------------------------\n",
      "Loss: 0.6840226054191589\n",
      "Mean IOU: 0.40485910931917907\n",
      "Mean Accuracy: 0.508888533401606\n",
      "----------------------------------\n",
      "Loss: 0.48600995540618896\n",
      "Mean IOU: 0.41037242238532723\n",
      "Mean Accuracy: 0.5210318706286644\n",
      "----------------------------------\n",
      "Loss: 0.664333701133728\n",
      "Mean IOU: 0.4166706961527839\n",
      "Mean Accuracy: 0.525741565069832\n",
      "----------------------------------\n",
      "Loss: 0.678834080696106\n",
      "Mean IOU: 0.3927997976237352\n",
      "Mean Accuracy: 0.4994417515498418\n",
      "----------------------------------\n",
      "Loss: 0.8244014382362366\n",
      "Mean IOU: 0.40702757298598274\n",
      "Mean Accuracy: 0.5174764025936285\n",
      "----------------------------------\n",
      "Loss: 0.6373482346534729\n",
      "Mean IOU: 0.4113615890111823\n",
      "Mean Accuracy: 0.5203104760335844\n",
      "----------------------------------\n",
      "Loss: 0.9373562335968018\n",
      "Mean IOU: 0.4108744316376209\n",
      "Mean Accuracy: 0.5150410504794649\n",
      "----------------------------------\n",
      "Loss: 0.6576430797576904\n",
      "Mean IOU: 0.4127092242455217\n",
      "Mean Accuracy: 0.5194176379899683\n",
      "----------------------------------\n",
      "Loss: 0.8388738632202148\n",
      "Mean IOU: 0.4137640465717555\n",
      "Mean Accuracy: 0.5181271994647568\n",
      "----------------------------------\n",
      "Loss: 0.6809759140014648\n",
      "Mean IOU: 0.4232673180980871\n",
      "Mean Accuracy: 0.5268406405064716\n",
      "----------------------------------\n",
      "Loss: 0.6738023161888123\n",
      "Mean IOU: 0.4097205493821938\n",
      "Mean Accuracy: 0.5205162039173333\n",
      "----------------------------------\n"
     ]
    }
   ],
   "source": [
    "results = train_model(model, train_dataloader, metric, id2label, learning_rate=learning_rate, epochs=epochs, device=None)"
   ]
  },
  {
   "cell_type": "code",
   "execution_count": 13,
   "metadata": {},
   "outputs": [
    {
     "data": {
      "application/vnd.jupyter.widget-view+json": {
       "model_id": "70c23495930646de836589f4a844c760",
       "version_major": 2,
       "version_minor": 0
      },
      "text/plain": [
       "  0%|          | 0/125 [00:00<?, ?it/s]"
      ]
     },
     "metadata": {},
     "output_type": "display_data"
    },
    {
     "name": "stdout",
     "output_type": "stream",
     "text": [
      "Final Mean IOU: 0.40189161446495286\n",
      "Final Mean Accuracy: 0.5044378567386025\n"
     ]
    }
   ],
   "source": [
    "val_eval_ms(model, val_dataloader, metric_val, id2label, device=None)"
   ]
  },
  {
   "cell_type": "code",
   "execution_count": 14,
   "metadata": {},
   "outputs": [],
   "source": [
    "with open(\"./autodl-tmp/seg_ade20k_base_ms.txt\", \"w\") as file:\n",
    "    for item in results:\n",
    "        file.write(f\"{item}\\n\")"
   ]
  },
  {
   "cell_type": "markdown",
   "metadata": {},
   "source": [
    "### Small Model"
   ]
  },
  {
   "cell_type": "code",
   "execution_count": 15,
   "metadata": {},
   "outputs": [],
   "source": [
    "# model = Dinov2ForSemanticSegmentationMS.from_pretrained(\"facebook/dinov2-small\", id2label=id2label, num_labels=len(id2label))"
   ]
  },
  {
   "cell_type": "code",
   "execution_count": 16,
   "metadata": {},
   "outputs": [],
   "source": [
    "#metric = evaluate.load(\"mean_iou\")\n",
    "#metric_val = evaluate.load(\"mean_iou\")"
   ]
  },
  {
   "cell_type": "code",
   "execution_count": 17,
   "metadata": {},
   "outputs": [],
   "source": [
    "#results = train_model(model, train_dataloader, metric, id2label, learning_rate=learning_rate, epochs=epochs, device=None)"
   ]
  },
  {
   "cell_type": "code",
   "execution_count": 18,
   "metadata": {},
   "outputs": [],
   "source": [
    "#val_eval_ms(model, val_dataloader, metric_val, id2label, device=None)"
   ]
  },
  {
   "cell_type": "code",
   "execution_count": 19,
   "metadata": {},
   "outputs": [],
   "source": [
    "#with open(\"./autodl-tmp/seg_ade20k_small_ms.txt\", \"w\") as file:\n",
    "#    for item in results:\n",
    "#        file.write(f\"{item}\\n\")"
   ]
  }
 ],
 "metadata": {
  "kaggle": {
   "accelerator": "nvidiaTeslaT4",
   "dataSources": [],
   "dockerImageVersionId": 30787,
   "isGpuEnabled": true,
   "isInternetEnabled": true,
   "language": "python",
   "sourceType": "notebook"
  },
  "kernelspec": {
   "display_name": "Python 3 (ipykernel)",
   "language": "python",
   "name": "python3"
  },
  "language_info": {
   "codemirror_mode": {
    "name": "ipython",
    "version": 3
   },
   "file_extension": ".py",
   "mimetype": "text/x-python",
   "name": "python",
   "nbconvert_exporter": "python",
   "pygments_lexer": "ipython3",
   "version": "3.12.3"
  }
 },
 "nbformat": 4,
 "nbformat_minor": 4
}
