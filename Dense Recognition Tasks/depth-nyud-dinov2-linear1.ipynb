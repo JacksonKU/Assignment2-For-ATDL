{
 "cells": [
  {
   "cell_type": "markdown",
   "metadata": {},
   "source": [
    "# Acknowledgment\n",
    "\n",
    "This implementation is fully based on the following code:\n",
    "\n",
    "- code: https://github.com/NielsRogge/Transformers-Tutorials/blob/master/DINOv2/Train_a_linear_classifier_on_top_of_DINOv2_for_semantic_segmentation.ipynb\n",
    "- Author: NielsRogge"
   ]
  },
  {
   "cell_type": "markdown",
   "metadata": {},
   "source": [
    "# Description\n",
    "- Task: depth estimation\n",
    "- Dataset: NYUd\n",
    "- Model: DINOv2-base\n",
    "- Evaluation: Linear-1"
   ]
  },
  {
   "cell_type": "markdown",
   "metadata": {},
   "source": [
    "# NYUd dataset download"
   ]
  },
  {
   "cell_type": "code",
   "execution_count": null,
   "metadata": {},
   "outputs": [],
   "source": [
    "!pip3 install kaggle\n",
    "# Need to set the APIs"
   ]
  },
  {
   "cell_type": "code",
   "execution_count": 3,
   "metadata": {},
   "outputs": [
    {
     "name": "stdout",
     "output_type": "stream",
     "text": [
      "Dataset URL: https://www.kaggle.com/datasets/soumikrakshit/nyu-depth-v2\n",
      "License(s): unknown\n",
      "Downloading nyu-depth-v2.zip to /root\n",
      "100%|█████████████████████████████████████▉| 4.10G/4.10G [05:48<00:00, 13.2MB/s]\n",
      "100%|██████████████████████████████████████| 4.10G/4.10G [05:48<00:00, 12.6MB/s]\n"
     ]
    }
   ],
   "source": [
    "!kaggle datasets download soumikrakshit/nyu-depth-v2"
   ]
  },
  {
   "cell_type": "code",
   "execution_count": null,
   "metadata": {},
   "outputs": [],
   "source": [
    "!unzip -o filename.zip"
   ]
  },
  {
   "cell_type": "markdown",
   "metadata": {},
   "source": [
    "# Transfrom original dataset into huggingface DatasetDict"
   ]
  },
  {
   "cell_type": "code",
   "execution_count": 29,
   "metadata": {},
   "outputs": [],
   "source": [
    "import os\n",
    "from datasets import Dataset, DatasetDict\n",
    "from PIL import Image\n",
    "import pandas as pd"
   ]
  },
  {
   "cell_type": "code",
   "execution_count": 30,
   "metadata": {},
   "outputs": [],
   "source": [
    "def load_sample(example):\n",
    "    color_image_path = example['color_image']\n",
    "    depth_image_path = example['depth_image']\n",
    "    \n",
    "    color_image = Image.open(color_image_path)\n",
    "    depth_image = Image.open(depth_image_path)\n",
    "    \n",
    "    return {\n",
    "        'color_image': color_image,\n",
    "        'depth_image': depth_image\n",
    "    }"
   ]
  },
  {
   "cell_type": "code",
   "execution_count": 31,
   "metadata": {},
   "outputs": [],
   "source": [
    "base_dir_data = './nyu_data/data'\n",
    "\n",
    "train_csv = pd.read_csv(os.path.join(base_dir_data, 'nyu2_train.csv'), header=None)\n",
    "train_csv.columns = ['color_image', 'depth_image']\n",
    "\n",
    "test_csv = pd.read_csv(os.path.join(base_dir_data, 'nyu2_test.csv'), header=None)\n",
    "test_csv.columns = ['color_image', 'depth_image']"
   ]
  },
  {
   "cell_type": "code",
   "execution_count": 32,
   "metadata": {},
   "outputs": [],
   "source": [
    "base_dir = './nyu_data/'\n",
    "train_csv['color_image'] = train_csv['color_image'].apply(lambda x: os.path.join(base_dir, x))\n",
    "train_csv['depth_image'] = train_csv['depth_image'].apply(lambda x: os.path.join(base_dir, x))\n",
    "\n",
    "test_csv['color_image'] = test_csv['color_image'].apply(lambda x: os.path.join(base_dir, x))\n",
    "test_csv['depth_image'] = test_csv['depth_image'].apply(lambda x: os.path.join(base_dir, x))"
   ]
  },
  {
   "cell_type": "code",
   "execution_count": 33,
   "metadata": {},
   "outputs": [],
   "source": [
    "train_dataset = Dataset.from_pandas(train_csv)\n",
    "test_dataset = Dataset.from_pandas(test_csv)"
   ]
  },
  {
   "cell_type": "code",
   "execution_count": 34,
   "metadata": {},
   "outputs": [
    {
     "data": {
      "text/plain": [
       "Dataset({\n",
       "    features: ['color_image', 'depth_image'],\n",
       "    num_rows: 50688\n",
       "})"
      ]
     },
     "execution_count": 34,
     "metadata": {},
     "output_type": "execute_result"
    }
   ],
   "source": [
    "train_dataset"
   ]
  },
  {
   "cell_type": "code",
   "execution_count": 35,
   "metadata": {},
   "outputs": [
    {
     "data": {
      "application/vnd.jupyter.widget-view+json": {
       "model_id": "f9ac57b8730c45769b34fe17c0fa19a5",
       "version_major": 2,
       "version_minor": 0
      },
      "text/plain": [
       "Map:   0%|          | 0/50688 [00:00<?, ? examples/s]"
      ]
     },
     "metadata": {},
     "output_type": "display_data"
    },
    {
     "data": {
      "application/vnd.jupyter.widget-view+json": {
       "model_id": "525347cb59b645738f07c277a182e197",
       "version_major": 2,
       "version_minor": 0
      },
      "text/plain": [
       "Map:   0%|          | 0/654 [00:00<?, ? examples/s]"
      ]
     },
     "metadata": {},
     "output_type": "display_data"
    }
   ],
   "source": [
    "train_dataset = train_dataset.map(load_sample)\n",
    "test_dataset = test_dataset.map(load_sample)"
   ]
  },
  {
   "cell_type": "code",
   "execution_count": 37,
   "metadata": {},
   "outputs": [
    {
     "data": {
      "text/plain": [
       "{'color_image': {'bytes': None,\n",
       "  'path': '/root/nyu_data/data/nyu2_train/living_room_0038_out/37.jpg'},\n",
       " 'depth_image': {'bytes': None,\n",
       "  'path': '/root/nyu_data/data/nyu2_train/living_room_0038_out/37.png'}}"
      ]
     },
     "execution_count": 37,
     "metadata": {},
     "output_type": "execute_result"
    }
   ],
   "source": [
    "train_dataset[0]"
   ]
  },
  {
   "cell_type": "code",
   "execution_count": 38,
   "metadata": {},
   "outputs": [
    {
     "data": {
      "text/plain": [
       "DatasetDict({\n",
       "    train: Dataset({\n",
       "        features: ['color_image', 'depth_image'],\n",
       "        num_rows: 20000\n",
       "    })\n",
       "    val: Dataset({\n",
       "        features: ['color_image', 'depth_image'],\n",
       "        num_rows: 2000\n",
       "    })\n",
       "})"
      ]
     },
     "execution_count": 38,
     "metadata": {},
     "output_type": "execute_result"
    }
   ],
   "source": [
    "# use part data of origial train set\n",
    "subset_train = train_dataset.shuffle(seed=42).select(range(22000))\n",
    "split_dataset = subset_train.train_test_split(test_size=2000)\n",
    "\n",
    "trains = split_dataset['train']\n",
    "vals = split_dataset['test']\n",
    "\n",
    "dataset = DatasetDict({\n",
    "    'train': trains,\n",
    "    'val': vals,\n",
    "})\n",
    "\n",
    "dataset"
   ]
  },
  {
   "cell_type": "markdown",
   "metadata": {},
   "source": [
    "# Installations and Imports"
   ]
  },
  {
   "cell_type": "code",
   "execution_count": 10,
   "metadata": {},
   "outputs": [],
   "source": [
    "Install = False\n",
    "if Install:\n",
    "    !pip3 install evaluate\n",
    "    !pip3 install transformers\n",
    "    !pip3 install datasets\n",
    "    !pip3 install albumentations"
   ]
  },
  {
   "cell_type": "code",
   "execution_count": 11,
   "metadata": {},
   "outputs": [],
   "source": [
    "import os\n",
    "os.environ['HF_ENDPOINT'] = 'https://hf-mirror.com'"
   ]
  },
  {
   "cell_type": "code",
   "execution_count": 39,
   "metadata": {},
   "outputs": [],
   "source": [
    "import torch\n",
    "from torch.optim import AdamW\n",
    "from torch.utils.data import Dataset\n",
    "from torch.utils.data import DataLoader\n",
    "import evaluate\n",
    "import numpy as np\n",
    "from PIL import Image\n",
    "from tqdm.auto import tqdm\n",
    "import matplotlib.pyplot as plt\n",
    "from transformers import Dinov2Model, Dinov2PreTrainedModel\n",
    "from transformers.modeling_outputs import SemanticSegmenterOutput\n",
    "from datasets import load_dataset\n",
    "import albumentations as A\n",
    "from datasets import load_from_disk\n",
    "from datasets import Dataset, DatasetDict"
   ]
  },
  {
   "cell_type": "markdown",
   "metadata": {},
   "source": [
    "# Functions and Classes"
   ]
  },
  {
   "cell_type": "code",
   "execution_count": 40,
   "metadata": {},
   "outputs": [],
   "source": [
    "def generate_id2label(num_labels):\n",
    "\n",
    "    id2label = {}\n",
    "\n",
    "    for i in range(num_labels):\n",
    "        id2label[i] = f\"label{i}\"\n",
    "    \n",
    "    return id2label\n",
    "\n",
    "def get_transform():\n",
    "    \n",
    "    ADE_MEAN = np.array([123.675, 116.280, 103.530]) / 255\n",
    "    ADE_STD = np.array([58.395, 57.120, 57.375]) / 255\n",
    "\n",
    "    train_transform = A.Compose([\n",
    "        A.Resize(width=448, height=448),\n",
    "        A.HorizontalFlip(p=0.5),\n",
    "        A.Normalize(mean=ADE_MEAN.tolist(), std=ADE_STD.tolist()),\n",
    "    ])\n",
    "\n",
    "    val_transform = A.Compose([\n",
    "        A.Resize(width=448, height=448),\n",
    "        A.Normalize(mean=ADE_MEAN.tolist(), std=ADE_STD.tolist()),\n",
    "\n",
    "    ])\n",
    "    \n",
    "    return train_transform, val_transform\n",
    "\n",
    "def collate_fn(inputs):\n",
    "    batch = dict()\n",
    "    batch[\"pixel_values\"] = torch.stack([i[0] for i in inputs], dim=0)\n",
    "    batch[\"labels\"] = torch.stack([i[1] for i in inputs], dim=0)\n",
    "    batch[\"original_images\"] = [i[2] for i in inputs]\n",
    "    batch[\"original_segmentation_maps\"] = [i[3] for i in inputs]\n",
    "\n",
    "    return batch\n",
    "\n",
    "def train_model(model, train_dataloader, metric, id2label, learning_rate=1e-5, epochs=3, device=None):\n",
    "\n",
    "    for name, param in model.named_parameters():\n",
    "        if name.startswith(\"dinov2\"):\n",
    "            param.requires_grad = False\n",
    "    \n",
    "    if device is None:\n",
    "        device = \"cuda\" if torch.cuda.is_available() else \"cpu\"\n",
    "\n",
    "    optimizer = AdamW(model.parameters(), lr=learning_rate)\n",
    "\n",
    "    model.to(device)\n",
    "\n",
    "    model.train()\n",
    "    \n",
    "    metrics_history = []\n",
    "\n",
    "    for epoch in range(epochs):\n",
    "        print(\"Epoch:\", epoch)\n",
    "        for idx, batch in enumerate(tqdm(train_dataloader)):\n",
    "            pixel_values = batch[\"pixel_values\"].to(device)\n",
    "            labels = batch[\"labels\"].to(device)\n",
    "\n",
    "            outputs = model(pixel_values, labels=labels)\n",
    "            loss = outputs.loss\n",
    "\n",
    "            loss.backward()\n",
    "            optimizer.step()\n",
    "\n",
    "            optimizer.zero_grad()\n",
    "\n",
    "            with torch.no_grad():\n",
    "                predicted = outputs.logits.argmax(dim=1)\n",
    "                \n",
    "                metric.add_batch(predictions=predicted.detach().cpu().numpy(), \n",
    "                                 references=labels.detach().cpu().numpy())\n",
    "\n",
    "            if idx % 100 == 0:\n",
    "                metrics = metric.compute(num_labels=len(id2label),\n",
    "                                        ignore_index=0,\n",
    "                                        reduce_labels=False)\n",
    "                \n",
    "                metrics_history.append({\n",
    "                    'epoch': epoch,\n",
    "                    'batch_idx': idx,\n",
    "                    'mean_iou': metrics['mean_iou'],\n",
    "                    'mean_accuracy': metrics['mean_accuracy']\n",
    "                })                \n",
    "                \n",
    "                print(\"Loss:\", loss.item())\n",
    "                print(\"Mean IOU:\", metrics[\"mean_iou\"])\n",
    "                print(\"Mean Accuracy:\", metrics[\"mean_accuracy\"])\n",
    "                print(\"----------------------------------\")\n",
    "    \n",
    "    return metrics_history\n",
    "\n",
    "def val_eval(model, val_dataloader, metric, id2label, device=None):\n",
    "\n",
    "    if device is None:\n",
    "        device = \"cuda\" if torch.cuda.is_available() else \"cpu\"\n",
    "\n",
    "    model.to(device)\n",
    "\n",
    "    model.eval()\n",
    "\n",
    "    with torch.no_grad():\n",
    "        for batch in tqdm(val_dataloader):\n",
    "            pixel_values = batch[\"pixel_values\"].to(device)\n",
    "            labels = batch[\"labels\"].to(device)\n",
    "\n",
    "            outputs = model(pixel_values, labels=labels)\n",
    "\n",
    "            predicted = outputs.logits.argmax(dim=1)\n",
    "\n",
    "            metric.add_batch(predictions=predicted.detach().cpu().numpy(), \n",
    "                             references=labels.detach().cpu().numpy())\n",
    "\n",
    "    final_metrics = metric.compute(num_labels=len(id2label),\n",
    "                                   ignore_index=0,\n",
    "                                   reduce_labels=False)\n",
    "\n",
    "    print(f\"Final Mean IOU: {final_metrics['mean_iou']}\")\n",
    "    print(f\"Final Mean Accuracy: {final_metrics['mean_accuracy']}\")"
   ]
  },
  {
   "cell_type": "code",
   "execution_count": 41,
   "metadata": {},
   "outputs": [],
   "source": [
    "class DepthDataset(Dataset):\n",
    "  def __init__(self, dataset, transform):\n",
    "    self.dataset = dataset\n",
    "    self.transform = transform\n",
    "\n",
    "  def __len__(self):\n",
    "    return len(self.dataset)\n",
    "\n",
    "  def __getitem__(self, idx):\n",
    "    item = self.dataset[idx]\n",
    "    original_image = np.array(Image.open(item['color_image']['path']))\n",
    "    original_depth_map = np.array(Image.open(item['depth_image']['path']))\n",
    "\n",
    "    transformed = self.transform(image=original_image, mask=original_depth_map)\n",
    "    image, target = torch.tensor(transformed['image']), torch.LongTensor(transformed['mask'])\n",
    "    \n",
    "    if image.dim() == 2:\n",
    "        image = image.unsqueeze(2)\n",
    "        image = image.expand(-1, -1, 3)\n",
    "\n",
    "    image = image.permute(2, 0, 1)\n",
    "\n",
    "    return image, target, original_image, original_depth_map"
   ]
  },
  {
   "cell_type": "code",
   "execution_count": 42,
   "metadata": {},
   "outputs": [],
   "source": [
    "class LinearClassifier(torch.nn.Module):\n",
    "    def __init__(self, in_channels, tokenW=32, tokenH=32, num_labels=256):\n",
    "        super(LinearClassifier, self).__init__()\n",
    "\n",
    "        self.in_channels = in_channels\n",
    "        self.width = tokenW\n",
    "        self.height = tokenH\n",
    "        self.classifier = torch.nn.Conv2d(in_channels, num_labels, (1,1))\n",
    "\n",
    "    def forward(self, embeddings):\n",
    "        embeddings = embeddings.reshape(-1, self.height, self.width, self.in_channels)\n",
    "        embeddings = embeddings.permute(0,3,1,2)\n",
    "\n",
    "        return self.classifier(embeddings)\n",
    "\n",
    "class Dinov2ForDepthEstimation(Dinov2PreTrainedModel):\n",
    "  def __init__(self, config):\n",
    "    super().__init__(config)\n",
    "\n",
    "    self.dinov2 = Dinov2Model(config)\n",
    "    self.classifier = LinearClassifier(config.hidden_size * 2, 32, 32, 256)\n",
    "\n",
    "  def forward(self, pixel_values, output_hidden_states=False, output_attentions=False, labels=None):\n",
    "\n",
    "    outputs = self.dinov2(pixel_values,\n",
    "                            output_hidden_states=output_hidden_states,\n",
    "                            output_attentions=output_attentions)\n",
    "\n",
    "    patch_embeddings = outputs.last_hidden_state[:, 1:, :]\n",
    "    cls_token = outputs.last_hidden_state[:, 0, :].unsqueeze(1).repeat(1, patch_embeddings.size(1), 1)\n",
    "    patch_embeddings = torch.cat((patch_embeddings, cls_token), dim=2)\n",
    "\n",
    "    logits = self.classifier(patch_embeddings)\n",
    "    logits = torch.nn.functional.interpolate(logits, size=(pixel_values.shape[2] * 4, pixel_values.shape[3] * 4), mode=\"bilinear\", align_corners=False)\n",
    "    labels = torch.nn.functional.interpolate(depth_labels.unsqueeze(1), \n",
    "                                                   size=(pixel_values.shape[2] * 4, pixel_values.shape[3] * 4), \n",
    "                                                   mode=\"nearest\").squeeze(1)\n",
    "      \n",
    "    loss = None\n",
    "    if labels is not None:\n",
    "\n",
    "      loss_fct = torch.nn.CrossEntropyLoss(ignore_index=0)\n",
    "      loss = loss_fct(logits.squeeze(), labels.squeeze())\n",
    "\n",
    "    return SemanticSegmenterOutput(\n",
    "        loss=loss,\n",
    "        logits=logits,\n",
    "        hidden_states=outputs.hidden_states,\n",
    "        attentions=outputs.attentions,\n",
    "    )"
   ]
  },
  {
   "cell_type": "markdown",
   "metadata": {},
   "source": [
    "# Hyperparameters"
   ]
  },
  {
   "cell_type": "code",
   "execution_count": 43,
   "metadata": {},
   "outputs": [],
   "source": [
    "num_labels = 256\n",
    "id2label = generate_id2label(num_labels)\n",
    "\n",
    "batch_size = 16\n",
    "learning_rate = 1e-5\n",
    "epochs = 5"
   ]
  },
  {
   "cell_type": "markdown",
   "metadata": {},
   "source": [
    "# Dataset Processing"
   ]
  },
  {
   "cell_type": "code",
   "execution_count": 45,
   "metadata": {},
   "outputs": [],
   "source": [
    "train_transform, val_transform = get_transform()\n",
    "\n",
    "trainset = DepthDataset(dataset[\"train\"], transform=train_transform)\n",
    "valset = DepthDataset(dataset[\"val\"], transform=val_transform)\n",
    "\n",
    "train_dataloader = DataLoader(trainset, batch_size=batch_size, shuffle=True, collate_fn=collate_fn)\n",
    "val_dataloader = DataLoader(valset, batch_size=batch_size, shuffle=False, collate_fn=collate_fn)"
   ]
  },
  {
   "cell_type": "code",
   "execution_count": null,
   "metadata": {},
   "outputs": [],
   "source": [
    "next(iter(train_dataloader))"
   ]
  },
  {
   "cell_type": "markdown",
   "metadata": {},
   "source": [
    "# Train and Evaluation"
   ]
  },
  {
   "cell_type": "markdown",
   "metadata": {},
   "source": [
    "### Base Model"
   ]
  },
  {
   "cell_type": "code",
   "execution_count": null,
   "metadata": {},
   "outputs": [],
   "source": [
    "model = Dinov2ForDepthEstimation.from_pretrained(\"facebook/dinov2-base\", id2label=id2label, num_labels=len(id2label))"
   ]
  },
  {
   "cell_type": "code",
   "execution_count": 26,
   "metadata": {},
   "outputs": [],
   "source": [
    "metric = evaluate.load(\"mean_iou\")\n",
    "metric_val = evaluate.load(\"mean_iou\")"
   ]
  },
  {
   "cell_type": "code",
   "execution_count": null,
   "metadata": {},
   "outputs": [],
   "source": [
    "results = train_model(model, train_dataloader, metric, id2label, learning_rate=learning_rate, epochs=epochs, device=None)"
   ]
  },
  {
   "cell_type": "code",
   "execution_count": null,
   "metadata": {},
   "outputs": [],
   "source": [
    "val_eval(model, val_dataloader, metric_val, id2label, device=None)"
   ]
  },
  {
   "cell_type": "code",
   "execution_count": 17,
   "metadata": {},
   "outputs": [],
   "source": [
    "with open(\"./depth_nyud_base_linear1.txt\", \"w\") as file:\n",
    "    for item in results:\n",
    "        file.write(f\"{item}\\n\")"
   ]
  },
  {
   "cell_type": "markdown",
   "metadata": {},
   "source": [
    "### Small Model"
   ]
  },
  {
   "cell_type": "code",
   "execution_count": null,
   "metadata": {},
   "outputs": [],
   "source": [
    "# model = Dinov2ForSemanticSegmentationLinear.from_pretrained(\"facebook/dinov2-small\", id2label=id2label, num_labels=len(id2label))"
   ]
  },
  {
   "cell_type": "code",
   "execution_count": 14,
   "metadata": {},
   "outputs": [],
   "source": [
    "# metric = evaluate.load(\"mean_iou\")\n",
    "# metric_val = evaluate.load(\"mean_iou\")"
   ]
  },
  {
   "cell_type": "code",
   "execution_count": null,
   "metadata": {},
   "outputs": [],
   "source": [
    "# results = train_model(model, train_dataloader, metric, id2label, learning_rate=learning_rate, epochs=epochs, device=None)"
   ]
  },
  {
   "cell_type": "code",
   "execution_count": null,
   "metadata": {},
   "outputs": [],
   "source": [
    "# val_eval_linear(model, val_dataloader, metric_val, id2label, device=None)"
   ]
  },
  {
   "cell_type": "code",
   "execution_count": 17,
   "metadata": {},
   "outputs": [],
   "source": [
    "# with open(\".s/depth_nyud_small_linear1.txt\", \"w\") as file:\n",
    "#     for item in results:\n",
    "#        file.write(f\"{item}\\n\")"
   ]
  }
 ],
 "metadata": {
  "kaggle": {
   "accelerator": "nvidiaTeslaT4",
   "dataSources": [],
   "dockerImageVersionId": 30787,
   "isGpuEnabled": true,
   "isInternetEnabled": true,
   "language": "python",
   "sourceType": "notebook"
  },
  "kernelspec": {
   "display_name": "Python 3 (ipykernel)",
   "language": "python",
   "name": "python3"
  },
  "language_info": {
   "codemirror_mode": {
    "name": "ipython",
    "version": 3
   },
   "file_extension": ".py",
   "mimetype": "text/x-python",
   "name": "python",
   "nbconvert_exporter": "python",
   "pygments_lexer": "ipython3",
   "version": "3.12.3"
  }
 },
 "nbformat": 4,
 "nbformat_minor": 4
}
