{
 "cells": [
  {
   "cell_type": "markdown",
   "metadata": {},
   "source": [
    "# Acknowledgment\n",
    "\n",
    "This implementation is fully based on the following code:\n",
    "\n",
    "- code: https://github.com/NielsRogge/Transformers-Tutorials/blob/master/DINOv2/Train_a_linear_classifier_on_top_of_DINOv2_for_semantic_segmentation.ipynb\n",
    "- Author: NielsRogge"
   ]
  },
  {
   "cell_type": "markdown",
   "metadata": {},
   "source": [
    "# Description\n",
    "- Task: semantic segmentation\n",
    "- Dataset: ADE20K\n",
    "- Model: DINOv2-small, DINOv2-base\n",
    "- Evaluation: Linear"
   ]
  },
  {
   "cell_type": "markdown",
   "metadata": {},
   "source": [
    "# Installations and Imports"
   ]
  },
  {
   "cell_type": "code",
   "execution_count": 1,
   "metadata": {},
   "outputs": [],
   "source": [
    "Install = False\n",
    "if Install:\n",
    "    !pip3 install evaluate\n",
    "    !pip3 install transformers\n",
    "    !pip3 install datasets\n",
    "    !pip3 install albumentations"
   ]
  },
  {
   "cell_type": "code",
   "execution_count": 3,
   "metadata": {},
   "outputs": [],
   "source": [
    "import torch\n",
    "from torch.optim import AdamW\n",
    "from torch.utils.data import Dataset\n",
    "from torch.utils.data import DataLoader\n",
    "import evaluate\n",
    "import numpy as np\n",
    "from PIL import Image\n",
    "from tqdm.auto import tqdm\n",
    "import matplotlib.pyplot as plt\n",
    "from transformers import Dinov2Model, Dinov2PreTrainedModel\n",
    "from transformers.modeling_outputs import SemanticSegmenterOutput\n",
    "from datasets import load_dataset\n",
    "import albumentations as A"
   ]
  },
  {
   "cell_type": "markdown",
   "metadata": {},
   "source": [
    "# Functions and Classes"
   ]
  },
  {
   "cell_type": "code",
   "execution_count": 4,
   "metadata": {},
   "outputs": [],
   "source": [
    "def get_dataset(dataset_dir):\n",
    "    dataset = load_dataset(dataset_dir)\n",
    "    print(dataset)\n",
    "    return dataset\n",
    "\n",
    "def generate_id2label(num_labels):\n",
    "    id2label = {0: \"label0\"}\n",
    "\n",
    "    for i in range(1, num_labels + 1):\n",
    "        id2label[i] = f\"label{i}\"\n",
    "    \n",
    "    return id2label\n",
    "\n",
    "def get_transform_linear():\n",
    "    \n",
    "    ADE_MEAN = np.array([123.675, 116.280, 103.530]) / 255\n",
    "    ADE_STD = np.array([58.395, 57.120, 57.375]) / 255\n",
    "\n",
    "    train_transform = A.Compose([\n",
    "        A.Resize(width=448, height=448),\n",
    "        A.HorizontalFlip(p=0.5),\n",
    "        A.Normalize(mean=ADE_MEAN.tolist(), std=ADE_STD.tolist()),\n",
    "    ])\n",
    "\n",
    "    val_transform = A.Compose([\n",
    "        A.Resize(width=448, height=448),\n",
    "        A.Normalize(mean=ADE_MEAN.tolist(), std=ADE_STD.tolist()),\n",
    "\n",
    "    ])\n",
    "    \n",
    "    return train_transform, val_transform\n",
    "\n",
    "def collate_fn(inputs):\n",
    "    batch = dict()\n",
    "    batch[\"pixel_values\"] = torch.stack([i[0] for i in inputs], dim=0)\n",
    "    batch[\"labels\"] = torch.stack([i[1] for i in inputs], dim=0)\n",
    "    batch[\"original_images\"] = [i[2] for i in inputs]\n",
    "    batch[\"original_segmentation_maps\"] = [i[3] for i in inputs]\n",
    "\n",
    "    return batch\n",
    "\n",
    "def train_model(model, train_dataloader, metric, id2label, learning_rate=1e-5, epochs=3, device=None):\n",
    "\n",
    "    for name, param in model.named_parameters():\n",
    "        if name.startswith(\"dinov2\"):\n",
    "            param.requires_grad = False\n",
    "    \n",
    "    if device is None:\n",
    "        device = \"cuda\" if torch.cuda.is_available() else \"cpu\"\n",
    "\n",
    "    optimizer = AdamW(model.parameters(), lr=learning_rate)\n",
    "\n",
    "    model.to(device)\n",
    "\n",
    "    model.train()\n",
    "    \n",
    "    metrics_history = []\n",
    "\n",
    "    for epoch in range(epochs):\n",
    "        print(\"Epoch:\", epoch)\n",
    "        for idx, batch in enumerate(tqdm(train_dataloader)):\n",
    "            pixel_values = batch[\"pixel_values\"].to(device)\n",
    "            labels = batch[\"labels\"].to(device)\n",
    "\n",
    "            outputs = model(pixel_values, labels=labels)\n",
    "            loss = outputs.loss\n",
    "\n",
    "            loss.backward()\n",
    "            optimizer.step()\n",
    "\n",
    "            optimizer.zero_grad()\n",
    "\n",
    "            with torch.no_grad():\n",
    "                predicted = outputs.logits.argmax(dim=1)\n",
    "                \n",
    "                metric.add_batch(predictions=predicted.detach().cpu().numpy(), \n",
    "                                 references=labels.detach().cpu().numpy())\n",
    "\n",
    "            if idx % 100 == 0:\n",
    "                metrics = metric.compute(num_labels=len(id2label),\n",
    "                                        ignore_index=0,\n",
    "                                        reduce_labels=False)\n",
    "                \n",
    "                metrics_history.append({\n",
    "                    'epoch': epoch,\n",
    "                    'batch_idx': idx,\n",
    "                    'mean_iou': metrics['mean_iou'],\n",
    "                    'mean_accuracy': metrics['mean_accuracy']\n",
    "                })                \n",
    "                \n",
    "                print(\"Loss:\", loss.item())\n",
    "                print(\"Mean IOU:\", metrics[\"mean_iou\"])\n",
    "                print(\"Mean Accuracy:\", metrics[\"mean_accuracy\"])\n",
    "                print(\"----------------------------------\")\n",
    "    \n",
    "    return metrics_history\n",
    "\n",
    "def val_eval_linear(model, val_dataloader, metric, id2label, device=None):\n",
    "\n",
    "    if device is None:\n",
    "        device = \"cuda\" if torch.cuda.is_available() else \"cpu\"\n",
    "\n",
    "    model.to(device)\n",
    "\n",
    "    model.eval()\n",
    "\n",
    "    with torch.no_grad():\n",
    "        for batch in tqdm(val_dataloader):\n",
    "            pixel_values = batch[\"pixel_values\"].to(device)\n",
    "            labels = batch[\"labels\"].to(device)\n",
    "\n",
    "            outputs = model(pixel_values, labels=labels)\n",
    "\n",
    "            predicted = outputs.logits.argmax(dim=1)\n",
    "\n",
    "            metric.add_batch(predictions=predicted.detach().cpu().numpy(), \n",
    "                             references=labels.detach().cpu().numpy())\n",
    "\n",
    "    final_metrics = metric.compute(num_labels=len(id2label),\n",
    "                                   ignore_index=0,\n",
    "                                   reduce_labels=False)\n",
    "\n",
    "    print(f\"Final Mean IOU: {final_metrics['mean_iou']}\")\n",
    "    print(f\"Final Mean Accuracy: {final_metrics['mean_accuracy']}\")"
   ]
  },
  {
   "cell_type": "code",
   "execution_count": 5,
   "metadata": {},
   "outputs": [],
   "source": [
    "class SegmentationDataset(Dataset):\n",
    "  def __init__(self, dataset, transform, feature_img, feature_seg):\n",
    "    self.dataset = dataset\n",
    "    self.transform = transform\n",
    "    self.feature_img = feature_img\n",
    "    self.feature_seg = feature_seg\n",
    "\n",
    "  def __len__(self):\n",
    "    return len(self.dataset)\n",
    "\n",
    "  def __getitem__(self, idx):\n",
    "    item = self.dataset[idx]\n",
    "    original_image = np.array(item[self.feature_img])\n",
    "    original_segmentation_map = np.array(item[self.feature_seg])\n",
    "\n",
    "    transformed = self.transform(image=original_image, mask=original_segmentation_map)\n",
    "    image, target = torch.tensor(transformed['image']), torch.LongTensor(transformed['mask'])\n",
    "    \n",
    "    if image.dim() == 2:\n",
    "        image = image.unsqueeze(2)\n",
    "        image = image.expand(-1, -1, 3)\n",
    "\n",
    "    image = image.permute(2, 0, 1)\n",
    "\n",
    "    return image, target, original_image, original_segmentation_map\n",
    "\n",
    "class LinearClassifier(torch.nn.Module):\n",
    "    def __init__(self, in_channels, tokenW=32, tokenH=32, num_labels=1):\n",
    "        super(LinearClassifier, self).__init__()\n",
    "\n",
    "        self.in_channels = in_channels\n",
    "        self.width = tokenW\n",
    "        self.height = tokenH\n",
    "        self.classifier = torch.nn.Conv2d(in_channels, num_labels, (1,1))\n",
    "\n",
    "    def forward(self, embeddings):\n",
    "        embeddings = embeddings.reshape(-1, self.height, self.width, self.in_channels)\n",
    "        embeddings = embeddings.permute(0,3,1,2)\n",
    "\n",
    "        return self.classifier(embeddings)\n",
    "\n",
    "class Dinov2ForSemanticSegmentationLinear(Dinov2PreTrainedModel):\n",
    "  def __init__(self, config):\n",
    "    super().__init__(config)\n",
    "\n",
    "    self.dinov2 = Dinov2Model(config)\n",
    "    self.classifier = LinearClassifier(config.hidden_size, 32, 32, config.num_labels)\n",
    "\n",
    "  def forward(self, pixel_values, output_hidden_states=False, output_attentions=False, labels=None):\n",
    "\n",
    "    outputs = self.dinov2(pixel_values,\n",
    "                            output_hidden_states=output_hidden_states,\n",
    "                            output_attentions=output_attentions)\n",
    "\n",
    "    patch_embeddings = outputs.last_hidden_state[:,1:,:]\n",
    "\n",
    "    logits = self.classifier(patch_embeddings)\n",
    "    logits = torch.nn.functional.interpolate(logits, size=pixel_values.shape[2:], mode=\"bilinear\", align_corners=False)\n",
    "    # logits = torch.nn.functional.interpolate(logits, size=(512, 512), mode=\"bilinear\", align_corners=False)\n",
    "    # labels = torch.nn.functional.interpolate(labels.unsqueeze(1).float(), size=(512, 512), mode=\"nearest\").squeeze(1).long()\n",
    "      \n",
    "    loss = None\n",
    "    if labels is not None:\n",
    "\n",
    "      loss_fct = torch.nn.CrossEntropyLoss(ignore_index=0)\n",
    "      loss = loss_fct(logits.squeeze(), labels.squeeze())\n",
    "\n",
    "    return SemanticSegmenterOutput(\n",
    "        loss=loss,\n",
    "        logits=logits,\n",
    "        hidden_states=outputs.hidden_states,\n",
    "        attentions=outputs.attentions,\n",
    "    )"
   ]
  },
  {
   "cell_type": "markdown",
   "metadata": {},
   "source": [
    "# Hyperparameters"
   ]
  },
  {
   "cell_type": "code",
   "execution_count": null,
   "metadata": {},
   "outputs": [],
   "source": [
    "num_labels = 150\n",
    "id2label = generate_id2label(num_labels)\n",
    "\n",
    "batch_size = 32\n",
    "learning_rate = 1e-5\n",
    "epochs = 10"
   ]
  },
  {
   "cell_type": "markdown",
   "metadata": {},
   "source": [
    "# Dataset Processing"
   ]
  },
  {
   "cell_type": "code",
   "execution_count": 8,
   "metadata": {},
   "outputs": [
    {
     "name": "stdout",
     "output_type": "stream",
     "text": [
      "DatasetDict({\n",
      "    train: Dataset({\n",
      "        features: ['image', 'annotated', 'Scene_category'],\n",
      "        num_rows: 20210\n",
      "    })\n",
      "    val: Dataset({\n",
      "        features: ['image', 'annotated', 'Scene_category'],\n",
      "        num_rows: 2000\n",
      "    })\n",
      "})\n"
     ]
    }
   ],
   "source": [
    "dataset_dir = \"sezer12138/ADE20k_Segementation\"\n",
    "dataset = get_dataset(dataset_dir)"
   ]
  },
  {
   "cell_type": "code",
   "execution_count": 9,
   "metadata": {},
   "outputs": [],
   "source": [
    "train_set = \"train\"\n",
    "val_set = \"val\"\n",
    "feature_img = \"image\"\n",
    "feature_seg = \"annotated\""
   ]
  },
  {
   "cell_type": "code",
   "execution_count": 12,
   "metadata": {},
   "outputs": [],
   "source": [
    "train_transform, val_transform = get_transform_linear()\n",
    "train_dataset = SegmentationDataset(dataset[train_set], transform=train_transform, feature_img=feature_img, feature_seg=feature_seg)\n",
    "val_dataset = SegmentationDataset(dataset[val_set], transform=val_transform, feature_img=feature_img, feature_seg=feature_seg)\n",
    "train_dataloader = DataLoader(train_dataset, batch_size=batch_size, shuffle=True, collate_fn=collate_fn)\n",
    "val_dataloader = DataLoader(val_dataset, batch_size=batch_size, shuffle=False, collate_fn=collate_fn)"
   ]
  },
  {
   "cell_type": "markdown",
   "metadata": {},
   "source": [
    "# Train and Evaluation"
   ]
  },
  {
   "cell_type": "markdown",
   "metadata": {},
   "source": [
    "### Base Model"
   ]
  },
  {
   "cell_type": "code",
   "execution_count": 13,
   "metadata": {},
   "outputs": [
    {
     "name": "stderr",
     "output_type": "stream",
     "text": [
      "Some weights of Dinov2ForSemanticSegmentation were not initialized from the model checkpoint at facebook/dinov2-base and are newly initialized: ['classifier.classifier.bias', 'classifier.classifier.weight']\n",
      "You should probably TRAIN this model on a down-stream task to be able to use it for predictions and inference.\n"
     ]
    }
   ],
   "source": [
    "model = Dinov2ForSemanticSegmentationLinear.from_pretrained(\"facebook/dinov2-base\", id2label=id2label, num_labels=len(id2label))"
   ]
  },
  {
   "cell_type": "code",
   "execution_count": 14,
   "metadata": {},
   "outputs": [],
   "source": [
    "metric = evaluate.load(\"mean_iou\")\n",
    "metric_val = evaluate.load(\"mean_iou\")"
   ]
  },
  {
   "cell_type": "code",
   "execution_count": 15,
   "metadata": {},
   "outputs": [
    {
     "name": "stdout",
     "output_type": "stream",
     "text": [
      "Epoch: 0\n"
     ]
    },
    {
     "data": {
      "application/vnd.jupyter.widget-view+json": {
       "model_id": "88c3645fdc9f4c07969b0043ec3841b2",
       "version_major": 2,
       "version_minor": 0
      },
      "text/plain": [
       "  0%|          | 0/632 [00:00<?, ?it/s]"
      ]
     },
     "metadata": {},
     "output_type": "display_data"
    },
    {
     "name": "stderr",
     "output_type": "stream",
     "text": [
      "/root/miniconda3/lib/python3.12/site-packages/datasets/features/image.py:348: UserWarning: Downcasting array dtype int64 to int32 to be compatible with 'Pillow'\n",
      "  warnings.warn(f\"Downcasting array dtype {dtype} to {dest_dtype} to be compatible with 'Pillow'\")\n",
      "/root/.cache/huggingface/modules/evaluate_modules/metrics/evaluate-metric--mean_iou/9e450724f21f05592bfb0255fe2fa576df8171fa060d11121d8aecfff0db80d0/mean_iou.py:260: RuntimeWarning: invalid value encountered in divide\n",
      "  acc = total_area_intersect / total_area_label\n"
     ]
    },
    {
     "name": "stdout",
     "output_type": "stream",
     "text": [
      "Loss: 5.363834857940674\n",
      "Mean IOU: 0.0005900922703899486\n",
      "Mean Accuracy: 0.0029101335194810576\n",
      "----------------------------------\n",
      "Loss: 4.920153617858887\n",
      "Mean IOU: 0.002362893366769786\n",
      "Mean Accuracy: 0.007310141630805983\n",
      "----------------------------------\n",
      "Loss: 4.555122375488281\n",
      "Mean IOU: 0.005520635373931384\n",
      "Mean Accuracy: 0.012564513693235165\n",
      "----------------------------------\n",
      "Loss: 4.225812911987305\n",
      "Mean IOU: 0.010951113118287177\n",
      "Mean Accuracy: 0.02150667986881082\n",
      "----------------------------------\n",
      "Loss: 4.047341346740723\n",
      "Mean IOU: 0.018638176633005505\n",
      "Mean Accuracy: 0.03550549933241794\n",
      "----------------------------------\n",
      "Loss: 3.690267324447632\n",
      "Mean IOU: 0.026897144546919636\n",
      "Mean Accuracy: 0.049713538865356025\n",
      "----------------------------------\n",
      "Loss: 3.485060930252075\n",
      "Mean IOU: 0.034872895123228886\n",
      "Mean Accuracy: 0.06306722349672932\n",
      "----------------------------------\n",
      "Epoch: 1\n"
     ]
    },
    {
     "data": {
      "application/vnd.jupyter.widget-view+json": {
       "model_id": "e568aaaba671444ca07ebd35615c8610",
       "version_major": 2,
       "version_minor": 0
      },
      "text/plain": [
       "  0%|          | 0/632 [00:00<?, ?it/s]"
      ]
     },
     "metadata": {},
     "output_type": "display_data"
    },
    {
     "name": "stdout",
     "output_type": "stream",
     "text": [
      "Loss: 3.414618492126465\n",
      "Mean IOU: 0.04235971197836524\n",
      "Mean Accuracy: 0.07592778464339948\n",
      "----------------------------------\n",
      "Loss: 3.099316358566284\n",
      "Mean IOU: 0.04711620788052341\n",
      "Mean Accuracy: 0.08033428795104988\n",
      "----------------------------------\n",
      "Loss: 3.0205330848693848\n",
      "Mean IOU: 0.056750554925054916\n",
      "Mean Accuracy: 0.09195179722421559\n",
      "----------------------------------\n",
      "Loss: 2.533573627471924\n",
      "Mean IOU: 0.06496109116499824\n",
      "Mean Accuracy: 0.10200028950251402\n",
      "----------------------------------\n",
      "Loss: 2.4295358657836914\n",
      "Mean IOU: 0.07436175742515072\n",
      "Mean Accuracy: 0.11310335135950167\n",
      "----------------------------------\n",
      "Loss: 2.158019542694092\n",
      "Mean IOU: 0.08175137735133257\n",
      "Mean Accuracy: 0.12161942092392868\n",
      "----------------------------------\n",
      "Loss: 2.2360000610351562\n",
      "Mean IOU: 0.09104799560796722\n",
      "Mean Accuracy: 0.1316318396490084\n",
      "----------------------------------\n",
      "Epoch: 2\n"
     ]
    },
    {
     "data": {
      "application/vnd.jupyter.widget-view+json": {
       "model_id": "89096a4d1d4d486599cf0e033615b2f9",
       "version_major": 2,
       "version_minor": 0
      },
      "text/plain": [
       "  0%|          | 0/632 [00:00<?, ?it/s]"
      ]
     },
     "metadata": {},
     "output_type": "display_data"
    },
    {
     "name": "stdout",
     "output_type": "stream",
     "text": [
      "Loss: 2.2385709285736084\n",
      "Mean IOU: 0.09177266196191969\n",
      "Mean Accuracy: 0.13543273647871254\n",
      "----------------------------------\n",
      "Loss: 2.4791176319122314\n",
      "Mean IOU: 0.10091579539173261\n",
      "Mean Accuracy: 0.142619628086261\n",
      "----------------------------------\n",
      "Loss: 2.2256112098693848\n",
      "Mean IOU: 0.10782417998595571\n",
      "Mean Accuracy: 0.15080063909773267\n",
      "----------------------------------\n",
      "Loss: 1.9940507411956787\n",
      "Mean IOU: 0.11616564603173289\n",
      "Mean Accuracy: 0.1596397753046286\n",
      "----------------------------------\n",
      "Loss: 1.9270907640457153\n",
      "Mean IOU: 0.12232552494540298\n",
      "Mean Accuracy: 0.1679027642180371\n",
      "----------------------------------\n",
      "Loss: 1.8438831567764282\n",
      "Mean IOU: 0.12909440789049428\n",
      "Mean Accuracy: 0.174405454145704\n",
      "----------------------------------\n",
      "Loss: 1.5960967540740967\n",
      "Mean IOU: 0.1399921041780526\n",
      "Mean Accuracy: 0.18761008624221107\n",
      "----------------------------------\n",
      "Epoch: 3\n"
     ]
    },
    {
     "data": {
      "application/vnd.jupyter.widget-view+json": {
       "model_id": "0abfdee2e9ed4545947d8aa70a129aeb",
       "version_major": 2,
       "version_minor": 0
      },
      "text/plain": [
       "  0%|          | 0/632 [00:00<?, ?it/s]"
      ]
     },
     "metadata": {},
     "output_type": "display_data"
    },
    {
     "name": "stdout",
     "output_type": "stream",
     "text": [
      "Loss: 1.6388639211654663\n",
      "Mean IOU: 0.14362851243744584\n",
      "Mean Accuracy: 0.1915668423255092\n",
      "----------------------------------\n",
      "Loss: 1.6535687446594238\n",
      "Mean IOU: 0.1475124636683408\n",
      "Mean Accuracy: 0.19569919345995554\n",
      "----------------------------------\n",
      "Loss: 1.4593737125396729\n",
      "Mean IOU: 0.1495853191117068\n",
      "Mean Accuracy: 0.1975956241864581\n",
      "----------------------------------\n",
      "Loss: 1.5534336566925049\n",
      "Mean IOU: 0.16012185795427739\n",
      "Mean Accuracy: 0.20966871922143496\n",
      "----------------------------------\n",
      "Loss: 1.4657036066055298\n",
      "Mean IOU: 0.16641018542026245\n",
      "Mean Accuracy: 0.21788877676853374\n",
      "----------------------------------\n",
      "Loss: 1.3013135194778442\n",
      "Mean IOU: 0.17354449971066255\n",
      "Mean Accuracy: 0.22691590655910712\n",
      "----------------------------------\n",
      "Loss: 1.6403477191925049\n",
      "Mean IOU: 0.17656293317327662\n",
      "Mean Accuracy: 0.2301600466425863\n",
      "----------------------------------\n",
      "Epoch: 4\n"
     ]
    },
    {
     "data": {
      "application/vnd.jupyter.widget-view+json": {
       "model_id": "da64b0fed4b141d688d7bfd60c8c8c10",
       "version_major": 2,
       "version_minor": 0
      },
      "text/plain": [
       "  0%|          | 0/632 [00:00<?, ?it/s]"
      ]
     },
     "metadata": {},
     "output_type": "display_data"
    },
    {
     "name": "stdout",
     "output_type": "stream",
     "text": [
      "Loss: 1.4789838790893555\n",
      "Mean IOU: 0.18299754572532728\n",
      "Mean Accuracy: 0.24232480715602886\n",
      "----------------------------------\n",
      "Loss: 1.1864386796951294\n",
      "Mean IOU: 0.18936699699038712\n",
      "Mean Accuracy: 0.2445470814825968\n",
      "----------------------------------\n",
      "Loss: 1.2524676322937012\n",
      "Mean IOU: 0.1870427472458689\n",
      "Mean Accuracy: 0.24235536453523057\n",
      "----------------------------------\n",
      "Loss: 1.4380239248275757\n",
      "Mean IOU: 0.1983925229079292\n",
      "Mean Accuracy: 0.2547285238622568\n",
      "----------------------------------\n",
      "Loss: 1.5248228311538696\n",
      "Mean IOU: 0.2017854765154436\n",
      "Mean Accuracy: 0.25972029479726433\n",
      "----------------------------------\n",
      "Loss: 1.2743111848831177\n",
      "Mean IOU: 0.20392475565215046\n",
      "Mean Accuracy: 0.26519015777881766\n",
      "----------------------------------\n",
      "Loss: 1.4552850723266602\n",
      "Mean IOU: 0.21472404383726715\n",
      "Mean Accuracy: 0.2735888669021173\n",
      "----------------------------------\n",
      "Epoch: 5\n"
     ]
    },
    {
     "data": {
      "application/vnd.jupyter.widget-view+json": {
       "model_id": "a1cd17419c084a64815ffe3f79b1208e",
       "version_major": 2,
       "version_minor": 0
      },
      "text/plain": [
       "  0%|          | 0/632 [00:00<?, ?it/s]"
      ]
     },
     "metadata": {},
     "output_type": "display_data"
    },
    {
     "name": "stderr",
     "output_type": "stream",
     "text": [
      "/root/.cache/huggingface/modules/evaluate_modules/metrics/evaluate-metric--mean_iou/9e450724f21f05592bfb0255fe2fa576df8171fa060d11121d8aecfff0db80d0/mean_iou.py:259: RuntimeWarning: invalid value encountered in divide\n",
      "  iou = total_area_intersect / total_area_union\n"
     ]
    },
    {
     "name": "stdout",
     "output_type": "stream",
     "text": [
      "Loss: 1.4645310640335083\n",
      "Mean IOU: 0.20781641686604885\n",
      "Mean Accuracy: 0.2688899737383245\n",
      "----------------------------------\n",
      "Loss: 1.1330523490905762\n",
      "Mean IOU: 0.22235441250869228\n",
      "Mean Accuracy: 0.2845920907473005\n",
      "----------------------------------\n",
      "Loss: 1.1832088232040405\n",
      "Mean IOU: 0.22955683697789564\n",
      "Mean Accuracy: 0.2922520007119084\n",
      "----------------------------------\n",
      "Loss: 1.17937171459198\n",
      "Mean IOU: 0.228886554310303\n",
      "Mean Accuracy: 0.29228259710395305\n",
      "----------------------------------\n",
      "Loss: 1.112990140914917\n",
      "Mean IOU: 0.23479438559847332\n",
      "Mean Accuracy: 0.3007855333703451\n",
      "----------------------------------\n",
      "Loss: 1.24491286277771\n",
      "Mean IOU: 0.24137622325543645\n",
      "Mean Accuracy: 0.30757048408444565\n",
      "----------------------------------\n",
      "Loss: 1.1381968259811401\n",
      "Mean IOU: 0.24248267995014297\n",
      "Mean Accuracy: 0.3088848872908674\n",
      "----------------------------------\n",
      "Epoch: 6\n"
     ]
    },
    {
     "data": {
      "application/vnd.jupyter.widget-view+json": {
       "model_id": "9da4ed51e6f84fc392e0cd07dd3bbc29",
       "version_major": 2,
       "version_minor": 0
      },
      "text/plain": [
       "  0%|          | 0/632 [00:00<?, ?it/s]"
      ]
     },
     "metadata": {},
     "output_type": "display_data"
    },
    {
     "name": "stdout",
     "output_type": "stream",
     "text": [
      "Loss: 1.0232316255569458\n",
      "Mean IOU: 0.24230509291847188\n",
      "Mean Accuracy: 0.3104626449837509\n",
      "----------------------------------\n",
      "Loss: 1.0770809650421143\n",
      "Mean IOU: 0.2572791568904686\n",
      "Mean Accuracy: 0.3253796407136754\n",
      "----------------------------------\n",
      "Loss: 1.0724601745605469\n",
      "Mean IOU: 0.2596768458167427\n",
      "Mean Accuracy: 0.330194740144575\n",
      "----------------------------------\n",
      "Loss: 1.019351840019226\n",
      "Mean IOU: 0.25944809392966756\n",
      "Mean Accuracy: 0.328812433938595\n",
      "----------------------------------\n",
      "Loss: 1.1367652416229248\n",
      "Mean IOU: 0.26277044628287277\n",
      "Mean Accuracy: 0.33496120067810164\n",
      "----------------------------------\n",
      "Loss: 1.099086046218872\n",
      "Mean IOU: 0.27178904725915504\n",
      "Mean Accuracy: 0.34296742999246316\n",
      "----------------------------------\n",
      "Loss: 0.9040416479110718\n",
      "Mean IOU: 0.27344690962515766\n",
      "Mean Accuracy: 0.34723079607838714\n",
      "----------------------------------\n",
      "Epoch: 7\n"
     ]
    },
    {
     "data": {
      "application/vnd.jupyter.widget-view+json": {
       "model_id": "18340454763c49b09045c6581ba390e8",
       "version_major": 2,
       "version_minor": 0
      },
      "text/plain": [
       "  0%|          | 0/632 [00:00<?, ?it/s]"
      ]
     },
     "metadata": {},
     "output_type": "display_data"
    },
    {
     "name": "stdout",
     "output_type": "stream",
     "text": [
      "Loss: 0.9536737203598022\n",
      "Mean IOU: 0.28061698201115104\n",
      "Mean Accuracy: 0.3550393307430293\n",
      "----------------------------------\n",
      "Loss: 1.1119657754898071\n",
      "Mean IOU: 0.2776653717412066\n",
      "Mean Accuracy: 0.3543513208319342\n",
      "----------------------------------\n",
      "Loss: 1.2184925079345703\n",
      "Mean IOU: 0.2860223019137122\n",
      "Mean Accuracy: 0.3599998262283748\n",
      "----------------------------------\n",
      "Loss: 0.9511573314666748\n",
      "Mean IOU: 0.2910153166488449\n",
      "Mean Accuracy: 0.3686636180294783\n",
      "----------------------------------\n",
      "Loss: 1.094383955001831\n",
      "Mean IOU: 0.2886520454565116\n",
      "Mean Accuracy: 0.36322896868624277\n",
      "----------------------------------\n",
      "Loss: 1.0588369369506836\n",
      "Mean IOU: 0.2899247889480869\n",
      "Mean Accuracy: 0.3700658324490427\n",
      "----------------------------------\n",
      "Loss: 1.1562860012054443\n",
      "Mean IOU: 0.297796682658697\n",
      "Mean Accuracy: 0.37684267619139394\n",
      "----------------------------------\n",
      "Epoch: 8\n"
     ]
    },
    {
     "data": {
      "application/vnd.jupyter.widget-view+json": {
       "model_id": "ca8f36515f3741b0ac71ac970de3f897",
       "version_major": 2,
       "version_minor": 0
      },
      "text/plain": [
       "  0%|          | 0/632 [00:00<?, ?it/s]"
      ]
     },
     "metadata": {},
     "output_type": "display_data"
    },
    {
     "name": "stdout",
     "output_type": "stream",
     "text": [
      "Loss: 1.3313068151474\n",
      "Mean IOU: 0.29759164245088054\n",
      "Mean Accuracy: 0.38131162254783846\n",
      "----------------------------------\n",
      "Loss: 0.9416850209236145\n",
      "Mean IOU: 0.3062503178596032\n",
      "Mean Accuracy: 0.38481621682894646\n",
      "----------------------------------\n",
      "Loss: 1.104833722114563\n",
      "Mean IOU: 0.30566513290325525\n",
      "Mean Accuracy: 0.3875390531002355\n",
      "----------------------------------\n",
      "Loss: 0.912018358707428\n",
      "Mean IOU: 0.31179708841844944\n",
      "Mean Accuracy: 0.39527154595051667\n",
      "----------------------------------\n",
      "Loss: 0.9954028725624084\n",
      "Mean IOU: 0.3137648140294118\n",
      "Mean Accuracy: 0.3956226726057431\n",
      "----------------------------------\n",
      "Loss: 1.047498345375061\n",
      "Mean IOU: 0.3140219725558593\n",
      "Mean Accuracy: 0.3946988210703095\n",
      "----------------------------------\n",
      "Loss: 1.0393638610839844\n",
      "Mean IOU: 0.32365100812598163\n",
      "Mean Accuracy: 0.40600233431079413\n",
      "----------------------------------\n",
      "Epoch: 9\n"
     ]
    },
    {
     "data": {
      "application/vnd.jupyter.widget-view+json": {
       "model_id": "cf3c310f48024a65a5fdf67fcf603fab",
       "version_major": 2,
       "version_minor": 0
      },
      "text/plain": [
       "  0%|          | 0/632 [00:00<?, ?it/s]"
      ]
     },
     "metadata": {},
     "output_type": "display_data"
    },
    {
     "name": "stdout",
     "output_type": "stream",
     "text": [
      "Loss: 0.9707915186882019\n",
      "Mean IOU: 0.3091414436544581\n",
      "Mean Accuracy: 0.3894899555326953\n",
      "----------------------------------\n",
      "Loss: 0.9607212543487549\n",
      "Mean IOU: 0.3243567954323603\n",
      "Mean Accuracy: 0.41127065602702717\n",
      "----------------------------------\n",
      "Loss: 1.0408984422683716\n",
      "Mean IOU: 0.32590131221118196\n",
      "Mean Accuracy: 0.41124665475134\n",
      "----------------------------------\n",
      "Loss: 0.8639803528785706\n",
      "Mean IOU: 0.32981538747296163\n",
      "Mean Accuracy: 0.4119614725402649\n",
      "----------------------------------\n",
      "Loss: 1.0694427490234375\n",
      "Mean IOU: 0.33121582730426363\n",
      "Mean Accuracy: 0.4181904736450819\n",
      "----------------------------------\n",
      "Loss: 1.007149338722229\n",
      "Mean IOU: 0.32643699443829144\n",
      "Mean Accuracy: 0.4142692304902199\n",
      "----------------------------------\n",
      "Loss: 0.8094237446784973\n",
      "Mean IOU: 0.33718877333686076\n",
      "Mean Accuracy: 0.42218690108834445\n",
      "----------------------------------\n"
     ]
    }
   ],
   "source": [
    "results = train_model(model, train_dataloader, metric, id2label, learning_rate=learning_rate, epochs=epochs, device=None)"
   ]
  },
  {
   "cell_type": "code",
   "execution_count": 16,
   "metadata": {},
   "outputs": [
    {
     "data": {
      "application/vnd.jupyter.widget-view+json": {
       "model_id": "9ba8081efd4f41a8bd423f607a1324db",
       "version_major": 2,
       "version_minor": 0
      },
      "text/plain": [
       "  0%|          | 0/63 [00:00<?, ?it/s]"
      ]
     },
     "metadata": {},
     "output_type": "display_data"
    },
    {
     "name": "stdout",
     "output_type": "stream",
     "text": [
      "Final Mean IOU: 0.32945676686083786\n",
      "Final Mean Accuracy: 0.42086342137961696\n"
     ]
    }
   ],
   "source": [
    "val_eval_linear(model, val_dataloader, metric_val, id2label, device=None)"
   ]
  },
  {
   "cell_type": "code",
   "execution_count": 17,
   "metadata": {},
   "outputs": [],
   "source": [
    "with open(\"./seg_ade20k_base_linear.txt\", \"w\") as file:\n",
    "    for item in results:\n",
    "        file.write(f\"{item}\\n\")"
   ]
  },
  {
   "cell_type": "markdown",
   "metadata": {},
   "source": [
    "### Small Model"
   ]
  },
  {
   "cell_type": "code",
   "execution_count": 13,
   "metadata": {},
   "outputs": [
    {
     "data": {
      "application/vnd.jupyter.widget-view+json": {
       "model_id": "55cfaec413e44cd8b70ea79838d110c5",
       "version_major": 2,
       "version_minor": 0
      },
      "text/plain": [
       "config.json:   0%|          | 0.00/331 [00:00<?, ?B/s]"
      ]
     },
     "metadata": {},
     "output_type": "display_data"
    },
    {
     "data": {
      "application/vnd.jupyter.widget-view+json": {
       "model_id": "73e59c0f309d488fb24beb0fd84fe947",
       "version_major": 2,
       "version_minor": 0
      },
      "text/plain": [
       "model.safetensors:   0%|          | 0.00/88.2M [00:00<?, ?B/s]"
      ]
     },
     "metadata": {},
     "output_type": "display_data"
    },
    {
     "name": "stderr",
     "output_type": "stream",
     "text": [
      "Some weights of Dinov2ForSemanticSegmentation were not initialized from the model checkpoint at facebook/dinov2-small and are newly initialized: ['classifier.classifier.bias', 'classifier.classifier.weight']\n",
      "You should probably TRAIN this model on a down-stream task to be able to use it for predictions and inference.\n"
     ]
    }
   ],
   "source": [
    "model = Dinov2ForSemanticSegmentationLinear.from_pretrained(\"facebook/dinov2-small\", id2label=id2label, num_labels=len(id2label))"
   ]
  },
  {
   "cell_type": "code",
   "execution_count": 14,
   "metadata": {},
   "outputs": [],
   "source": [
    "metric = evaluate.load(\"mean_iou\")\n",
    "metric_val = evaluate.load(\"mean_iou\")"
   ]
  },
  {
   "cell_type": "code",
   "execution_count": 15,
   "metadata": {},
   "outputs": [
    {
     "name": "stdout",
     "output_type": "stream",
     "text": [
      "Epoch: 0\n"
     ]
    },
    {
     "data": {
      "application/vnd.jupyter.widget-view+json": {
       "model_id": "5a0d2317c1d14fb0b3020b37421a0831",
       "version_major": 2,
       "version_minor": 0
      },
      "text/plain": [
       "  0%|          | 0/632 [00:00<?, ?it/s]"
      ]
     },
     "metadata": {},
     "output_type": "display_data"
    },
    {
     "name": "stderr",
     "output_type": "stream",
     "text": [
      "/root/miniconda3/lib/python3.12/site-packages/datasets/features/image.py:348: UserWarning: Downcasting array dtype int64 to int32 to be compatible with 'Pillow'\n",
      "  warnings.warn(f\"Downcasting array dtype {dtype} to {dest_dtype} to be compatible with 'Pillow'\")\n",
      "/root/.cache/huggingface/modules/evaluate_modules/metrics/evaluate-metric--mean_iou/9e450724f21f05592bfb0255fe2fa576df8171fa060d11121d8aecfff0db80d0/mean_iou.py:259: RuntimeWarning: invalid value encountered in divide\n",
      "  iou = total_area_intersect / total_area_union\n",
      "/root/.cache/huggingface/modules/evaluate_modules/metrics/evaluate-metric--mean_iou/9e450724f21f05592bfb0255fe2fa576df8171fa060d11121d8aecfff0db80d0/mean_iou.py:260: RuntimeWarning: invalid value encountered in divide\n",
      "  acc = total_area_intersect / total_area_label\n"
     ]
    },
    {
     "name": "stdout",
     "output_type": "stream",
     "text": [
      "Loss: 5.444570541381836\n",
      "Mean IOU: 0.0014819876380996722\n",
      "Mean Accuracy: 0.012857570863623592\n",
      "----------------------------------\n",
      "Loss: 5.113446235656738\n",
      "Mean IOU: 0.0016824489387340204\n",
      "Mean Accuracy: 0.006822135484356362\n",
      "----------------------------------\n",
      "Loss: 4.8038225173950195\n",
      "Mean IOU: 0.003437326357317041\n",
      "Mean Accuracy: 0.010671583950915118\n",
      "----------------------------------\n",
      "Loss: 4.524355411529541\n",
      "Mean IOU: 0.006840760775584131\n",
      "Mean Accuracy: 0.017425402435347983\n",
      "----------------------------------\n",
      "Loss: 4.266073226928711\n",
      "Mean IOU: 0.012070405010766571\n",
      "Mean Accuracy: 0.027422808145991493\n",
      "----------------------------------\n",
      "Loss: 4.060877323150635\n",
      "Mean IOU: 0.017973868870558497\n",
      "Mean Accuracy: 0.03858380892613026\n",
      "----------------------------------\n",
      "Loss: 3.852776050567627\n",
      "Mean IOU: 0.0253439444931257\n",
      "Mean Accuracy: 0.0510660611334291\n",
      "----------------------------------\n",
      "Epoch: 1\n"
     ]
    },
    {
     "data": {
      "application/vnd.jupyter.widget-view+json": {
       "model_id": "9082487206434c339346e6d7ca8dc1f0",
       "version_major": 2,
       "version_minor": 0
      },
      "text/plain": [
       "  0%|          | 0/632 [00:00<?, ?it/s]"
      ]
     },
     "metadata": {},
     "output_type": "display_data"
    },
    {
     "name": "stdout",
     "output_type": "stream",
     "text": [
      "Loss: 3.7259178161621094\n",
      "Mean IOU: 0.03031131578143487\n",
      "Mean Accuracy: 0.05995450610184105\n",
      "----------------------------------\n",
      "Loss: 3.417703628540039\n",
      "Mean IOU: 0.0352110120127758\n",
      "Mean Accuracy: 0.06689070321258812\n",
      "----------------------------------\n",
      "Loss: 3.2139289379119873\n",
      "Mean IOU: 0.04263736475631028\n",
      "Mean Accuracy: 0.0782940230135102\n",
      "----------------------------------\n",
      "Loss: 3.0606722831726074\n",
      "Mean IOU: 0.0491622518040073\n",
      "Mean Accuracy: 0.08581798899087317\n",
      "----------------------------------\n",
      "Loss: 2.6866326332092285\n",
      "Mean IOU: 0.056480846224632994\n",
      "Mean Accuracy: 0.09456314790172342\n",
      "----------------------------------\n",
      "Loss: 2.556973457336426\n",
      "Mean IOU: 0.06328340741076685\n",
      "Mean Accuracy: 0.1020340902651669\n",
      "----------------------------------\n",
      "Loss: 2.3816332817077637\n",
      "Mean IOU: 0.07010150105374456\n",
      "Mean Accuracy: 0.10979693931369733\n",
      "----------------------------------\n",
      "Epoch: 2\n"
     ]
    },
    {
     "data": {
      "application/vnd.jupyter.widget-view+json": {
       "model_id": "97290cfb170f41f094a356ee4b5dec68",
       "version_major": 2,
       "version_minor": 0
      },
      "text/plain": [
       "  0%|          | 0/632 [00:00<?, ?it/s]"
      ]
     },
     "metadata": {},
     "output_type": "display_data"
    },
    {
     "name": "stdout",
     "output_type": "stream",
     "text": [
      "Loss: 2.5788815021514893\n",
      "Mean IOU: 0.07290946653942505\n",
      "Mean Accuracy: 0.1121162391216761\n",
      "----------------------------------\n",
      "Loss: 2.2024073600769043\n",
      "Mean IOU: 0.07737022697851502\n",
      "Mean Accuracy: 0.11685623727720935\n",
      "----------------------------------\n",
      "Loss: 2.2821061611175537\n",
      "Mean IOU: 0.08361816331691317\n",
      "Mean Accuracy: 0.1241954820746008\n",
      "----------------------------------\n",
      "Loss: 2.2911529541015625\n",
      "Mean IOU: 0.0889587793121711\n",
      "Mean Accuracy: 0.1295290780180417\n",
      "----------------------------------\n",
      "Loss: 2.224860429763794\n",
      "Mean IOU: 0.09349936992172315\n",
      "Mean Accuracy: 0.13444570159745473\n",
      "----------------------------------\n",
      "Loss: 2.2297890186309814\n",
      "Mean IOU: 0.09975124892002188\n",
      "Mean Accuracy: 0.1414173079179717\n",
      "----------------------------------\n",
      "Loss: 1.8722485303878784\n",
      "Mean IOU: 0.10359066754000909\n",
      "Mean Accuracy: 0.1442309517818678\n",
      "----------------------------------\n",
      "Epoch: 3\n"
     ]
    },
    {
     "data": {
      "application/vnd.jupyter.widget-view+json": {
       "model_id": "8b56a6010d074e2d978c89431b78b53b",
       "version_major": 2,
       "version_minor": 0
      },
      "text/plain": [
       "  0%|          | 0/632 [00:00<?, ?it/s]"
      ]
     },
     "metadata": {},
     "output_type": "display_data"
    },
    {
     "name": "stdout",
     "output_type": "stream",
     "text": [
      "Loss: 1.9726905822753906\n",
      "Mean IOU: 0.10325871111066624\n",
      "Mean Accuracy: 0.14709511405180542\n",
      "----------------------------------\n",
      "Loss: 1.6213079690933228\n",
      "Mean IOU: 0.10967000824948055\n",
      "Mean Accuracy: 0.1518091378629147\n",
      "----------------------------------\n",
      "Loss: 1.8162574768066406\n",
      "Mean IOU: 0.11423278758185237\n",
      "Mean Accuracy: 0.15693647343778697\n",
      "----------------------------------\n",
      "Loss: 1.868863582611084\n",
      "Mean IOU: 0.11836402290645373\n",
      "Mean Accuracy: 0.16073145706251366\n",
      "----------------------------------\n",
      "Loss: 1.589064598083496\n",
      "Mean IOU: 0.11952222592361392\n",
      "Mean Accuracy: 0.1630608097777073\n",
      "----------------------------------\n",
      "Loss: 1.7129300832748413\n",
      "Mean IOU: 0.12682913794725265\n",
      "Mean Accuracy: 0.17195461289634587\n",
      "----------------------------------\n",
      "Loss: 1.488537073135376\n",
      "Mean IOU: 0.1276854484809335\n",
      "Mean Accuracy: 0.17334518809083832\n",
      "----------------------------------\n",
      "Epoch: 4\n"
     ]
    },
    {
     "data": {
      "application/vnd.jupyter.widget-view+json": {
       "model_id": "dd9862c61d584ff990c44c5fc1f4c37a",
       "version_major": 2,
       "version_minor": 0
      },
      "text/plain": [
       "  0%|          | 0/632 [00:00<?, ?it/s]"
      ]
     },
     "metadata": {},
     "output_type": "display_data"
    },
    {
     "name": "stdout",
     "output_type": "stream",
     "text": [
      "Loss: 1.5266640186309814\n",
      "Mean IOU: 0.13338009181723146\n",
      "Mean Accuracy: 0.1787971424365486\n",
      "----------------------------------\n",
      "Loss: 1.6427284479141235\n",
      "Mean IOU: 0.13529784109812362\n",
      "Mean Accuracy: 0.1811146693848554\n",
      "----------------------------------\n",
      "Loss: 1.6941423416137695\n",
      "Mean IOU: 0.1350739911955111\n",
      "Mean Accuracy: 0.18131618259982601\n",
      "----------------------------------\n",
      "Loss: 1.4982935190200806\n",
      "Mean IOU: 0.14229343561680102\n",
      "Mean Accuracy: 0.18833891868217031\n",
      "----------------------------------\n",
      "Loss: 1.2923964262008667\n",
      "Mean IOU: 0.14613128076702636\n",
      "Mean Accuracy: 0.19420410548475459\n",
      "----------------------------------\n",
      "Loss: 1.2993186712265015\n",
      "Mean IOU: 0.1536083090779497\n",
      "Mean Accuracy: 0.20236899029288166\n",
      "----------------------------------\n",
      "Loss: 1.3485463857650757\n",
      "Mean IOU: 0.15757607279228106\n",
      "Mean Accuracy: 0.20781419585692856\n",
      "----------------------------------\n",
      "Epoch: 5\n"
     ]
    },
    {
     "data": {
      "application/vnd.jupyter.widget-view+json": {
       "model_id": "edb6d9e76379409eb6b23730932d72bf",
       "version_major": 2,
       "version_minor": 0
      },
      "text/plain": [
       "  0%|          | 0/632 [00:00<?, ?it/s]"
      ]
     },
     "metadata": {},
     "output_type": "display_data"
    },
    {
     "name": "stdout",
     "output_type": "stream",
     "text": [
      "Loss: 1.462260365486145\n",
      "Mean IOU: 0.16103629215119328\n",
      "Mean Accuracy: 0.20902261715363016\n",
      "----------------------------------\n",
      "Loss: 1.3635425567626953\n",
      "Mean IOU: 0.16258697300301236\n",
      "Mean Accuracy: 0.21333109711631862\n",
      "----------------------------------\n",
      "Loss: 1.2279295921325684\n",
      "Mean IOU: 0.16240570925991343\n",
      "Mean Accuracy: 0.21183397560207134\n",
      "----------------------------------\n",
      "Loss: 1.314099669456482\n",
      "Mean IOU: 0.16660995257084257\n",
      "Mean Accuracy: 0.2175350861429412\n",
      "----------------------------------\n",
      "Loss: 1.339363694190979\n",
      "Mean IOU: 0.16919629295161392\n",
      "Mean Accuracy: 0.22123730037355932\n",
      "----------------------------------\n",
      "Loss: 1.5491896867752075\n",
      "Mean IOU: 0.17757810301399607\n",
      "Mean Accuracy: 0.23107829682112965\n",
      "----------------------------------\n",
      "Loss: 1.2529977560043335\n",
      "Mean IOU: 0.17973034930387083\n",
      "Mean Accuracy: 0.23622539990016322\n",
      "----------------------------------\n",
      "Epoch: 6\n"
     ]
    },
    {
     "data": {
      "application/vnd.jupyter.widget-view+json": {
       "model_id": "30506ff627774e7387c043bc60b5ed0b",
       "version_major": 2,
       "version_minor": 0
      },
      "text/plain": [
       "  0%|          | 0/632 [00:00<?, ?it/s]"
      ]
     },
     "metadata": {},
     "output_type": "display_data"
    },
    {
     "name": "stdout",
     "output_type": "stream",
     "text": [
      "Loss: 1.2449842691421509\n",
      "Mean IOU: 0.17911952718493132\n",
      "Mean Accuracy: 0.230535368796746\n",
      "----------------------------------\n",
      "Loss: 1.2512593269348145\n",
      "Mean IOU: 0.18300529343755328\n",
      "Mean Accuracy: 0.23702752056113424\n",
      "----------------------------------\n",
      "Loss: 1.0318256616592407\n",
      "Mean IOU: 0.18797905015433797\n",
      "Mean Accuracy: 0.24207811469335047\n",
      "----------------------------------\n",
      "Loss: 1.201286792755127\n",
      "Mean IOU: 0.18757004428886714\n",
      "Mean Accuracy: 0.2449709968187903\n",
      "----------------------------------\n",
      "Loss: 1.1474196910858154\n",
      "Mean IOU: 0.2035634261207314\n",
      "Mean Accuracy: 0.2600830367540922\n",
      "----------------------------------\n",
      "Loss: 1.0859787464141846\n",
      "Mean IOU: 0.19842260978260357\n",
      "Mean Accuracy: 0.257446930067163\n",
      "----------------------------------\n",
      "Loss: 1.3492443561553955\n",
      "Mean IOU: 0.20107878062401882\n",
      "Mean Accuracy: 0.26040567575897566\n",
      "----------------------------------\n",
      "Epoch: 7\n"
     ]
    },
    {
     "data": {
      "application/vnd.jupyter.widget-view+json": {
       "model_id": "52b8a4e9b351427fbb1a4b579da0070d",
       "version_major": 2,
       "version_minor": 0
      },
      "text/plain": [
       "  0%|          | 0/632 [00:00<?, ?it/s]"
      ]
     },
     "metadata": {},
     "output_type": "display_data"
    },
    {
     "name": "stdout",
     "output_type": "stream",
     "text": [
      "Loss: 1.0704164505004883\n",
      "Mean IOU: 0.20313608456362284\n",
      "Mean Accuracy: 0.26714191281561406\n",
      "----------------------------------\n",
      "Loss: 1.183836817741394\n",
      "Mean IOU: 0.20846130715851766\n",
      "Mean Accuracy: 0.26812101844751673\n",
      "----------------------------------\n",
      "Loss: 1.223578691482544\n",
      "Mean IOU: 0.2108795980734892\n",
      "Mean Accuracy: 0.27040526855450886\n",
      "----------------------------------\n",
      "Loss: 0.8744267225265503\n",
      "Mean IOU: 0.21558845416048422\n",
      "Mean Accuracy: 0.2770215077898305\n",
      "----------------------------------\n",
      "Loss: 1.113162875175476\n",
      "Mean IOU: 0.22095378427411602\n",
      "Mean Accuracy: 0.2833707873891312\n",
      "----------------------------------\n",
      "Loss: 1.1184031963348389\n",
      "Mean IOU: 0.2255190186679063\n",
      "Mean Accuracy: 0.28709441928128604\n",
      "----------------------------------\n",
      "Loss: 1.1269102096557617\n",
      "Mean IOU: 0.22480304314323857\n",
      "Mean Accuracy: 0.2876003805319568\n",
      "----------------------------------\n",
      "Epoch: 8\n"
     ]
    },
    {
     "data": {
      "application/vnd.jupyter.widget-view+json": {
       "model_id": "e7d43ee556fe45e690983e5cb8355cd4",
       "version_major": 2,
       "version_minor": 0
      },
      "text/plain": [
       "  0%|          | 0/632 [00:00<?, ?it/s]"
      ]
     },
     "metadata": {},
     "output_type": "display_data"
    },
    {
     "name": "stdout",
     "output_type": "stream",
     "text": [
      "Loss: 1.0237345695495605\n",
      "Mean IOU: 0.2216905728093489\n",
      "Mean Accuracy: 0.28890533034458393\n",
      "----------------------------------\n",
      "Loss: 1.0657769441604614\n",
      "Mean IOU: 0.23606174062747246\n",
      "Mean Accuracy: 0.30092695168919414\n",
      "----------------------------------\n",
      "Loss: 1.261810302734375\n",
      "Mean IOU: 0.23163398735294674\n",
      "Mean Accuracy: 0.29409598019740946\n",
      "----------------------------------\n",
      "Loss: 1.0676225423812866\n",
      "Mean IOU: 0.2406690965708772\n",
      "Mean Accuracy: 0.303504020336182\n",
      "----------------------------------\n",
      "Loss: 0.9197268486022949\n",
      "Mean IOU: 0.2478972412893729\n",
      "Mean Accuracy: 0.3149676175794545\n",
      "----------------------------------\n",
      "Loss: 0.9636109471321106\n",
      "Mean IOU: 0.24119785699492183\n",
      "Mean Accuracy: 0.30773507614195966\n",
      "----------------------------------\n",
      "Loss: 1.153996229171753\n",
      "Mean IOU: 0.2473988210155824\n",
      "Mean Accuracy: 0.315238123058237\n",
      "----------------------------------\n",
      "Epoch: 9\n"
     ]
    },
    {
     "data": {
      "application/vnd.jupyter.widget-view+json": {
       "model_id": "6bfcd2c40d7847b29f36941560f05061",
       "version_major": 2,
       "version_minor": 0
      },
      "text/plain": [
       "  0%|          | 0/632 [00:00<?, ?it/s]"
      ]
     },
     "metadata": {},
     "output_type": "display_data"
    },
    {
     "name": "stdout",
     "output_type": "stream",
     "text": [
      "Loss: 1.1155385971069336\n",
      "Mean IOU: 0.24726141967973092\n",
      "Mean Accuracy: 0.31388393563334815\n",
      "----------------------------------\n",
      "Loss: 1.107743501663208\n",
      "Mean IOU: 0.25809128873338133\n",
      "Mean Accuracy: 0.32494892783406754\n",
      "----------------------------------\n",
      "Loss: 0.9834823608398438\n",
      "Mean IOU: 0.2505465622053893\n",
      "Mean Accuracy: 0.31782294683199097\n",
      "----------------------------------\n",
      "Loss: 0.9801182150840759\n",
      "Mean IOU: 0.2535666756416481\n",
      "Mean Accuracy: 0.3210864829280693\n",
      "----------------------------------\n",
      "Loss: 1.0059361457824707\n",
      "Mean IOU: 0.26677432838781706\n",
      "Mean Accuracy: 0.3380139053873112\n",
      "----------------------------------\n",
      "Loss: 1.0620789527893066\n",
      "Mean IOU: 0.2659471059435727\n",
      "Mean Accuracy: 0.33667294538225495\n",
      "----------------------------------\n",
      "Loss: 1.0350384712219238\n",
      "Mean IOU: 0.27143782965731106\n",
      "Mean Accuracy: 0.34279011373907425\n",
      "----------------------------------\n"
     ]
    }
   ],
   "source": [
    "results = train_model(model, train_dataloader, metric, id2label, learning_rate=learning_rate, epochs=epochs, device=None)"
   ]
  },
  {
   "cell_type": "code",
   "execution_count": 16,
   "metadata": {},
   "outputs": [
    {
     "data": {
      "application/vnd.jupyter.widget-view+json": {
       "model_id": "74dddc18ef014a9993bad3867df3b3d2",
       "version_major": 2,
       "version_minor": 0
      },
      "text/plain": [
       "  0%|          | 0/63 [00:00<?, ?it/s]"
      ]
     },
     "metadata": {},
     "output_type": "display_data"
    },
    {
     "name": "stdout",
     "output_type": "stream",
     "text": [
      "Final Mean IOU: 0.2645381000943276\n",
      "Final Mean Accuracy: 0.3366199306649156\n"
     ]
    }
   ],
   "source": [
    "val_eval_linear(model, val_dataloader, metric_val, id2label, device=None)"
   ]
  },
  {
   "cell_type": "code",
   "execution_count": 17,
   "metadata": {},
   "outputs": [],
   "source": [
    "with open(\"./seg_ade20k_small_linear.txt\", \"w\") as file:\n",
    "    for item in results:\n",
    "        file.write(f\"{item}\\n\")"
   ]
  }
 ],
 "metadata": {
  "kaggle": {
   "accelerator": "nvidiaTeslaT4",
   "dataSources": [],
   "dockerImageVersionId": 30787,
   "isGpuEnabled": true,
   "isInternetEnabled": true,
   "language": "python",
   "sourceType": "notebook"
  },
  "kernelspec": {
   "display_name": "Python 3 (ipykernel)",
   "language": "python",
   "name": "python3"
  },
  "language_info": {
   "codemirror_mode": {
    "name": "ipython",
    "version": 3
   },
   "file_extension": ".py",
   "mimetype": "text/x-python",
   "name": "python",
   "nbconvert_exporter": "python",
   "pygments_lexer": "ipython3",
   "version": "3.12.3"
  }
 },
 "nbformat": 4,
 "nbformat_minor": 4
}
