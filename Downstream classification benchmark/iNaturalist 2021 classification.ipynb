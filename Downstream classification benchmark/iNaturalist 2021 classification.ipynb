{
 "cells": [
  {
   "cell_type": "code",
   "execution_count": null,
   "id": "53718fb2",
   "metadata": {},
   "outputs": [],
   "source": [
    "import torch\n",
    "from torchvision import transforms, datasets\n",
    "from torch.utils.data import DataLoader, random_split\n",
    "\n",
    "transform = transforms.Compose([\n",
    "    transforms.Lambda(lambda img: img.convert(\"RGB\") if img.mode != \"RGB\" else img),\n",
    "    transforms.Resize((224, 224)),\n",
    "    transforms.ToTensor(),\n",
    "    transforms.Normalize(mean=[0.485, 0.456, 0.406], std=[0.229, 0.224, 0.225]),\n",
    "])"
   ]
  },
  {
   "cell_type": "code",
   "execution_count": null,
   "id": "15eae040-c945-4ef7-b107-b003e99c74d1",
   "metadata": {},
   "outputs": [],
   "source": [
    "print(torch.cuda.current_device())\n",
    "import os\n",
    "os.environ[\"CUDA_VISIBLE_DEVICES\"] = \"0,1\""
   ]
  },
  {
   "cell_type": "code",
   "execution_count": null,
   "id": "e330fecf",
   "metadata": {},
   "outputs": [],
   "source": [
    "dataset_path = 'dataset/2018_train_mini'\n",
    "original_dataset = datasets.ImageFolder(root=dataset_path, transform=transform)"
   ]
  },
  {
   "cell_type": "code",
   "execution_count": null,
   "id": "eace7505-9d0b-4a6b-9d78-768684cc70fe",
   "metadata": {},
   "outputs": [],
   "source": [
    "print(\"Total number of images: \", len(original_dataset))\n",
    "print(\"Classes number: \", len(original_dataset.classes))"
   ]
  },
  {
   "cell_type": "code",
   "execution_count": null,
   "id": "498a910a-ff4d-4e0f-9264-a1aaf37369a1",
   "metadata": {
    "scrolled": true
   },
   "outputs": [],
   "source": [
    "import matplotlib.pyplot as plt\n",
    "import random\n",
    "\n",
    "for i in range(4):\n",
    "    image, label = original_dataset[random.randint(0, len(original_dataset)-1)]\n",
    "    \n",
    "    image = image.permute(1, 2, 0).numpy()\n",
    "    plt.figure(figsize=(1, 1))\n",
    "    plt.imshow(image)\n",
    "    plt.title(f\"Class: {original_dataset.classes[label]}\")\n",
    "    plt.show()"
   ]
  },
  {
   "cell_type": "code",
   "execution_count": null,
   "id": "7de7a0e6",
   "metadata": {},
   "outputs": [],
   "source": [
    "# only use a subset of the dataset\n",
    "ori_len = len(original_dataset)\n",
    "train_size = int(0.7 * ori_len)\n",
    "val_size = int(0.15 * ori_len)\n",
    "test_sieze = ori_len - train_size - val_size\n",
    "\n",
    "train_data, val_data, test_data = random_split(original_dataset, [train_size, val_size, test_sieze])\n",
    "\n",
    "train_loader = DataLoader(train_data, batch_size=32, shuffle=True)\n",
    "val_loader = DataLoader(val_data, batch_size=32, shuffle=True)\n",
    "test_loader = DataLoader(test_data, batch_size=32, shuffle=True)"
   ]
  },
  {
   "cell_type": "code",
   "execution_count": null,
   "id": "a07e49f0",
   "metadata": {},
   "outputs": [],
   "source": [
    "import torch.nn as nn\n",
    "import torch.optim as optim\n",
    "\n",
    "# load the pretrained backbone and head\n",
    "backbone = torch.hub.load('facebookresearch/dinov2', 'dinov2_vits14_reg', pretrained=True)\n",
    "head = torch.hub.load('facebookresearch/dinov2', 'dinov2_vits14_reg_lc', pretrained=True)\n",
    "\n",
    "# freeze backbone\n",
    "for param in backbone.parameters():\n",
    "    param.requires_grad = False\n",
    "\n"
   ]
  },
  {
   "cell_type": "code",
   "execution_count": null,
   "id": "7ac71d7e-5aa1-4897-8f31-494ef6d3c707",
   "metadata": {},
   "outputs": [],
   "source": [
    "class MyModel(nn.Module):\n",
    "    def __init__(self, backbone, head):\n",
    "        super(MyModel, self).__init__()\n",
    "        self.backbone = backbone\n",
    "        self.head = head\n",
    "\n",
    "        # to fit the number of classes in the dataset\n",
    "        self.head.linear_head = nn.Linear(in_features=1920, out_features=10000)\n",
    "        \n",
    "    def forward(self, x):\n",
    "        # get the intermediate layers of the backbone\n",
    "        intermediate_layers = self.backbone.get_intermediate_layers(x, n=4, return_class_token=True)\n",
    "        \n",
    "        # get the class tokens and the last patch tokens\n",
    "        class_tokens = [layer[1] for layer in intermediate_layers]\n",
    "        patch_tokens = intermediate_layers[-1][0]\n",
    "        \n",
    "        # mean pooling the patch tokens\n",
    "        pooled_tokens = patch_tokens.mean(dim=1)\n",
    "\n",
    "        # combine the class tokens and the pooled tokens\n",
    "        linear_input = torch.cat(class_tokens + [pooled_tokens], dim=-1)\n",
    "\n",
    "        # forward the linear head\n",
    "        out = self.head.linear_head(linear_input)\n",
    "        \n",
    "        return out"
   ]
  },
  {
   "cell_type": "code",
   "execution_count": null,
   "id": "71e67244",
   "metadata": {},
   "outputs": [],
   "source": [
    "# to device\n",
    "device = torch.device('cuda' if torch.cuda.is_available() else 'cpu')\n",
    "model = MyModel(backbone, head).to(device)\n",
    "\n",
    "# define loss and optimizer\n",
    "criterion = nn.CrossEntropyLoss()\n",
    "# only train the head\n",
    "optimizer = optim.Adam(head.parameters(), lr=1e-4)"
   ]
  },
  {
   "cell_type": "code",
   "execution_count": null,
   "id": "225b7815",
   "metadata": {},
   "outputs": [],
   "source": [
    "from torchmetrics import Accuracy\n",
    "from tqdm import tqdm\n",
    "\n",
    "# train the model\n",
    "def train_one_epoch(model, train_loader, criterion, optimizer, device):\n",
    "    model.train()\n",
    "    running_loss = 0.0\n",
    "    for inputs, labels in tqdm(train_loader):\n",
    "        inputs, labels = inputs.to(device), labels.to(device)\n",
    "\n",
    "        # forward\n",
    "        outputs = model(inputs)\n",
    "        loss = criterion(outputs, labels)\n",
    "        \n",
    "\n",
    "        # backward and optimize\n",
    "        loss.backward()\n",
    "        optimizer.step()\n",
    "\n",
    "        running_loss += loss.item()\n",
    "    return running_loss / len(train_loader)\n",
    "\n",
    "# define validation function\n",
    "def evaluate(model, loader, device):\n",
    "    model.eval()\n",
    "    accuracy_metric = Accuracy(task='multiclass', top_k=1, num_classes=10000).to(device) # top-1 accuracy\n",
    "    with torch.no_grad():\n",
    "        for inputs, labels in tqdm(loader):\n",
    "            inputs, labels = inputs.to(device), labels.to(device)\n",
    "            outputs = model(inputs)\n",
    "            accuracy_metric.update(outputs, labels)\n",
    "            \n",
    "    return accuracy_metric.compute().item()"
   ]
  },
  {
   "cell_type": "code",
   "execution_count": null,
   "id": "3be59544",
   "metadata": {},
   "outputs": [],
   "source": [
    "# import os\n",
    "# os.environ['CUDA_LAUNCH_BLOCKING'] = '1'\n",
    "num_epochs = 8\n",
    "best_val_accuracy = 0.0\n",
    "\n",
    "for epoch in range(num_epochs):\n",
    "    train_loss = train_one_epoch(model, train_loader, criterion, optimizer, device)\n",
    "    val_accuracy = evaluate(model, val_loader, device)\n",
    "    \n",
    "    print(f'Epoch [{epoch+1}/{num_epochs}], Loss: {train_loss:.4f}, Val Accuracy: {val_accuracy * 100:.2f}%')\n",
    "    \n",
    "    # save the best model\n",
    "    if val_accuracy > best_val_accuracy:\n",
    "        best_val_accuracy = val_accuracy\n",
    "        torch.save(model.state_dict(), 'best_model.pth')"
   ]
  },
  {
   "cell_type": "code",
   "execution_count": null,
   "id": "e71a65d8",
   "metadata": {},
   "outputs": [],
   "source": [
    "# evaluate the best model on the test dataset   \n",
    "model.load_state_dict(torch.load('best_model.pth'))\n",
    "test_accuracy = evaluate(model, test_loader, device)\n",
    "print(f'Test Accuracy: {test_accuracy * 100:.2f}%')"
   ]
  }
 ],
 "metadata": {
  "kernelspec": {
   "display_name": "Python 3 (ipykernel)",
   "language": "python",
   "name": "python3"
  },
  "language_info": {
   "codemirror_mode": {
    "name": "ipython",
    "version": 3
   },
   "file_extension": ".py",
   "mimetype": "text/x-python",
   "name": "python",
   "nbconvert_exporter": "python",
   "pygments_lexer": "ipython3",
   "version": "3.12.4"
  }
 },
 "nbformat": 4,
 "nbformat_minor": 5
}
